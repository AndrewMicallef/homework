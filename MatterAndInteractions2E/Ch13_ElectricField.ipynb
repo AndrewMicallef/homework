{
 "cells": [
  {
   "cell_type": "markdown",
   "metadata": {},
   "source": [
    "\n",
    "<dt> Definition of electric field </dt>\n",
    "<di>\n",
    "$\\vec{F_2} = q_2 \\vec{E_1}$\n",
    "</di>\n",
    "\n",
    "\n",
    "<dt> Electric Field of a point charge </dt>\n",
    "<di>\n",
    "$\\vec{E_1} = \\frac{1}{4 \\pi \\epsilon_0} \\frac{q_1}{|{\\vec{r}|^2}}\\hat{r}$\n",
    "</di>\n"
   ]
  },
  {
   "cell_type": "code",
   "execution_count": null,
   "metadata": {},
   "outputs": [],
   "source": []
  },
  {
   "cell_type": "markdown",
   "metadata": {},
   "source": [
    "# 13.8 Review Questions"
   ]
  },
  {
   "cell_type": "markdown",
   "metadata": {},
   "source": [
    "## 13.RQ.22\n",
    "\n",
    "> There exists an electric field $\\vec{E} = <1000, 0, 0> \\text{N/C}$.  \n",
    "> What charge and relative location would a positive point particle need to generate this field?  \n",
    "> What charge and relative location would a negative point particle need to generate this field?  \n"
   ]
  },
  {
   "cell_type": "markdown",
   "metadata": {},
   "source": [
    "The electric field of a point charge is given by the equation $\\vec{E_1} = \\frac{1}{4 \\pi \\epsilon_0} \\frac{q_1}{|{\\vec{r}|^2}}\\hat{r}$, where $q_1$ is the charge of the source. $\\vec{r}$ is the relative position vector.\n",
    "\n",
    "In the above example the electric field has no $y$ or $z$ components, which implies the charge is located somewhere on the $x$ axis, relative to the location of our measurment. \n",
    "So for this example $|\\vec{r}| = 1$, and $\\hat{\\vec{r}} = <1,0,0>$ or $<-1,0,0>$ depending on if we are dealing with a positive or negative charge."
   ]
  },
  {
   "cell_type": "markdown",
   "metadata": {},
   "source": [
    "So now we can rearrange our electric field equation to:\n",
    "$$\n",
    "\\begin{align}\n",
    "{4 \\pi \\epsilon_0} \\vec{E_1} &=  \\frac{q_1}{|{\\vec{r}|^2}}\\hat{r}\\\\\n",
    "\\frac{{4 \\pi \\epsilon_0} \\vec{E_1}}{\\hat{r}} &=  \\frac{q_1}{|{\\vec{r}|^2}}\\\\\n",
    "\\end{align}\n",
    "$$\n",
    "\n",
    "Also we can simplify the matter to only the $x$ component, seeing as we have established the charge is located somewhere on that axis.\n",
    "\n",
    "$$\n",
    "\\begin{align}\n",
    "\\frac{4 \\pi \\epsilon_0 {E_1}_x}{1} &=  \\frac{q_1}{{r_x}^2}\\\\\n",
    "4 \\pi \\epsilon_0 {E_1}_x &=  \\frac{q_1}{{r_x}^2}\\\\\n",
    "\\end{align}\n",
    "$$\n",
    "\n",
    "So now we know that $q_1$ and $r_x$ can be any numbers that satisfy the above equation.\n",
    "\n",
    "$$\n",
    "q_1 = \\frac{4 \\pi \\epsilon_0 {E_1}_x}{{r_x}^2} \\\\\n",
    "$$\n"
   ]
  },
  {
   "cell_type": "code",
   "execution_count": 1,
   "metadata": {
    "jupyter": {
     "source_hidden": true
    }
   },
   "outputs": [
    {
     "data": {
      "image/png": "[encoded data removed]",
      "text/plain": [
       "<Figure size 432x288 with 1 Axes>"
      ]
     },
     "metadata": {
      "needs_background": "light"
     },
     "output_type": "display_data"
    }
   ],
   "source": [
    "import numpy as np\n",
    "import matplotlib.pyplot as plt\n",
    "import matplotlib as mpl\n",
    "\n",
    "eps_0 = 8.85e-12\n",
    "\n",
    "Ex = 1000\n",
    "def q_func(r):\n",
    "    sign = np.ones(r.size) \n",
    "    sign[r< 0] = -1\n",
    "    return sign * ((4 * np.pi * eps_0 * Ex)/ r**2)\n",
    "\n",
    "\n",
    "r = np.linspace(-4.3e-1, 4.5e-1, 1050)\n",
    "q = q_func(r)\n",
    "q[abs(r)<1e-2] = np.nan\n",
    "\n",
    "p_q = np.r_[1.602e-19]\n",
    "p_r = q_func(p_q)\n",
    "\n",
    "e_q = np.r_[-1.602e-19]\n",
    "e_r = q_func(e_q)\n",
    "\n",
    "\n",
    "plt.plot(r, q)\n",
    "#plt.plot(p_r, p_q, 'o', mfc='None')\n",
    "#plt.plot(e_r, e_q, 'o', mfc='None')\n",
    "\n",
    "plt.title('Charge vs Distance of particle')\n",
    "plt.ylabel('Charge (C)')\n",
    "plt.xlabel('Distance (m)');"
   ]
  },
  {
   "cell_type": "markdown",
   "metadata": {},
   "source": [
    "Above I have graphed the distance of the particle vs it's charge. As the charge magnitude increases it needs to be placed further away from the point in order to get the 1000 C that we measure. the distance falls off with the square of distance."
   ]
  },
  {
   "cell_type": "code",
   "execution_count": 2,
   "metadata": {
    "jupyter": {
     "source_hidden": true
    }
   },
   "outputs": [
    {
     "data": {
      "text/plain": [
       "(-4.33339333702249e+30, 4.33339333702249e+30)"
      ]
     },
     "execution_count": 2,
     "metadata": {},
     "output_type": "execute_result"
    }
   ],
   "source": [
    "e_r[0], p_r[0]"
   ]
  },
  {
   "cell_type": "markdown",
   "metadata": {},
   "source": [
    "The distance of an electron would be $-4.3\\times10^{30}\\text{m}$ while a proton would be $4.3\\times10^{30}\\text{m}$. Which seams to me like an exceptionally far distance!"
   ]
  },
  {
   "cell_type": "markdown",
   "metadata": {},
   "source": [
    "--------------------------------------"
   ]
  },
  {
   "cell_type": "code",
   "execution_count": null,
   "metadata": {},
   "outputs": [],
   "source": []
  }
 ],
 "metadata": {
  "kernelspec": {
   "display_name": "Python 3",
   "language": "python",
   "name": "python3"
  },
  "language_info": {
   "codemirror_mode": {
    "name": "ipython",
    "version": 3
   },
   "file_extension": ".py",
   "mimetype": "text/x-python",
   "name": "python",
   "nbconvert_exporter": "python",
   "pygments_lexer": "ipython3",
   "version": "3.8.6"
  }
 },
 "nbformat": 4,
 "nbformat_minor": 4
}
