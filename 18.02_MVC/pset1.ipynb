{
 "cells": [
  {
   "cell_type": "markdown",
   "metadata": {},
   "source": [
    "__210120__"
   ]
  },
  {
   "cell_type": "markdown",
   "metadata": {},
   "source": [
    "# 1. Vectors and Matrices"
   ]
  },
  {
   "cell_type": "markdown",
   "metadata": {},
   "source": [
    "## 1.A Vectors"
   ]
  },
  {
   "cell_type": "markdown",
   "metadata": {},
   "source": [
    "### **1A-1**\n",
    "\n",
    "Find the magnitude and direction of the vectors"
   ]
  },
  {
   "cell_type": "markdown",
   "metadata": {},
   "source": [
    "*a)* $\\mathbf{i} + \\mathbf{j} + \\mathbf{k}$"
   ]
  },
  {
   "cell_type": "markdown",
   "metadata": {},
   "source": [
    "> $ = <1, 0, 0> + <0,1,0> + <0,0,1>$  \n",
    "> $ = <1,1,1>$  \n",
    "> \n",
    "> \n",
    "> $ \\text{dir} \\ \\mathbf{A} = \\frac{\\mathbf{A}}{|\\mathbf{A}|}$  \n",
    "> \n",
    "> $ = \\frac{<1,1,1>}{\\sqrt{3}}$\n",
    "> \n",
    "> $ = <\\frac{1}{\\sqrt{3}}, \\frac{1}{\\sqrt{3}},\\frac{1}{\\sqrt{3}}>$\n",
    "\n"
   ]
  },
  {
   "cell_type": "markdown",
   "metadata": {},
   "source": [
    "*b)* $2\\mathbf{i} - \\mathbf{j} + 2\\mathbf{k}$"
   ]
  },
  {
   "cell_type": "markdown",
   "metadata": {},
   "source": [
    "> $ = <2, 0, 0> - <0,1,0> + <0,0,2>$  \n",
    "> $ = <2,-1,2>$  \n",
    "> $ = \\frac{<2,-1,2>}{\\sqrt{2^2 + 1 + 2^2}}$  \n",
    "> $ = \\frac{<2,-1,2>}{\\sqrt{4 + 1 + 4}}$  \n",
    "> $ = \\frac{<2,-1,2>}{\\sqrt{9}}$  \n",
    "> $ = \\frac{<2,-1,2>}{3}$  \n",
    "> \n",
    "> $ = <\\frac{2}{3}, -\\frac{1}{3},\\frac{2}{3}>$\n"
   ]
  },
  {
   "cell_type": "markdown",
   "metadata": {},
   "source": [
    "*c)* $3\\mathbf{i} - 6\\mathbf{j} + 2\\mathbf{k}$"
   ]
  },
  {
   "cell_type": "markdown",
   "metadata": {},
   "source": [
    "> $ = <3, 0, 0> - <0,6,0> + <0,0,2>$  \n",
    "> $ = <3,-6,2>$  \n",
    "> $ = \\frac{<3,-6,2>}{\\sqrt{3^2 + -6^2 + 2^2}}$  \n",
    "> $ = \\frac{<3,-6,2>}{\\sqrt{9 + -36 + 4}}$  \n",
    "> $ = \\frac{<3,-6,2>}{\\sqrt{-23}}$  \n",
    "> \n",
    "> \n",
    "> $ = <\\frac{3}{\\sqrt{-23}}, -\\frac{6}{\\sqrt{-23}},\\frac{2}{\\sqrt{-23}}>$\n"
   ]
  },
  {
   "cell_type": "markdown",
   "metadata": {},
   "source": [
    "---------------------------------------\n",
    "\n",
    "### **1A-2** \n",
    "\n",
    "For what value(s) of $c$ will $\\frac{1}{5} \\mathbf{i} - \\frac{1}{5} \\mathbf{j} +c \\mathbf{k}$ be a unit vector?"
   ]
  },
  {
   "cell_type": "markdown",
   "metadata": {},
   "source": [
    "> A unit vector $\\mathbf{v}$ has $|\\mathbf{v}| = 1$.\n",
    "> \n",
    "> Thus for the vector $\\mathbf{v}$ with components $<a, b, c>$, \n",
    "> $\\sqrt{a^2 + b^2 + c^2} = 1$.\n",
    "> \n",
    "> $ c = 1 - (a^2 + b^2)$\n",
    "> \n",
    "> $ c = 1 - (\\frac{1}{5}^2 + \\frac{1}{5}^2)$  \n",
    "> $ c = 1 - 2(\\frac{1}{5}^2)$  \n",
    "> $ c = 1 - (\\frac{2}{25})$  \n",
    "> $ c = \\frac{23}{25}$  \n",
    "\n",
    "\n",
    "\n",
    "\n"
   ]
  },
  {
   "cell_type": "markdown",
   "metadata": {},
   "source": [
    "---------------------\n",
    "### **1A-3**"
   ]
  },
  {
   "cell_type": "markdown",
   "metadata": {},
   "source": [
    "*a)* (the following notation impiles $P$ and $Q$ are points, and $A$ is a vector joining them)\n",
    "\n",
    "If $P = (1,3,-1)$ and $Q = (0,1,1)$, find $\\mathbf{A} = PQ$, $|\\mathbf{A}|$ and $\\text{dir}\\ A$"
   ]
  },
  {
   "cell_type": "markdown",
   "metadata": {},
   "source": [
    "> $$\n",
    " \\begin{align}\n",
    " \\mathbf{A} &= P - Q \\\\\n",
    " &= (1,3,-1) - (0,1,1) \\\\\n",
    " &= <1,2,-2> \\\\\n",
    " \\\\\n",
    " |\\mathbf{A}| &= \\sqrt{1^2 + 2^2 + (-2)^2}\\\\\n",
    " &=\\sqrt{1+4+4}\\\\\n",
    " &=\\sqrt{9}\\\\\n",
    "  &=3\\\\\n",
    "  \\\\\n",
    " \\text{dir} \\ \\mathbf{A} &= \\frac{\\mathbf{A}}{|\\mathbf{A}|}\\\\\n",
    " &= \\frac{1}{3} <1,2,-2>\\\\\n",
    " &= <\\frac{1}{3},\\frac{2}{3},\\frac{-2}{3}>\\\\\n",
    " \\end{align}\n",
    " $$"
   ]
  },
  {
   "cell_type": "markdown",
   "metadata": {},
   "source": [
    "*This cell contains Tex command definitions*\n",
    "$\\newcommand{\\i}{\\mathbf{i}}$ \n",
    "$\\newcommand{\\j}{\\mathbf{j}}$\n",
    "$\\newcommand{\\k}{\\mathbf{k}}$ \n",
    "$\\newcommand{\\vec}[1]{\\mathbf{#1}}$ \n",
    "$\\newcommand{\\deg}{^\\circ}$"
   ]
  },
  {
   "cell_type": "markdown",
   "metadata": {},
   "source": [
    "b) A vector $\\vec{A}$ has magnitude 6 and direction $(\\i + 2\\j - 2\\k)/3$. If it's tail is at $(-2, 0 , 1)$, where is it's head?"
   ]
  },
  {
   "cell_type": "markdown",
   "metadata": {},
   "source": [
    "Let $A_t$ and $A_h$ represent the tip and the tail of the vector $\\vec{A}$, respectivley.\n",
    "To get to the head of the vector all we need to do is start at the point $A_t$ and travel 6 units in the direction of $\\vec{A}$.\n",
    "Which is to say: \n",
    "$$\n",
    "\\begin{align}\n",
    "A_h &= A_t + \\vec{A}\\\\\n",
    "&= (-2,0,1) + 6(\\i + 2\\j - 2\\k)/3\\\\\n",
    "&= (-2,0,1) + 2(\\i + 2\\j - 2\\k)\\\\\n",
    "&= (-2,0,1) + <2,4, -4>\\\\\n",
    "&= (0,4,-3)\\\\\n",
    "\\end{align}\n",
    "$$"
   ]
  },
  {
   "cell_type": "markdown",
   "metadata": {},
   "source": [
    "-------------------------------------\n",
    "\n",
    "### **1A-4**\n",
    "\n",
    "*a)*\n",
    "Let $P$ and $Q$ be two points in space, and $X$ the mid point of the line segment $PQ$. Let $O$ be an arbitrary fixed point; show that as vectors, $OX = \\frac{1}{2}(OP + OQ)$. "
   ]
  },
  {
   "cell_type": "markdown",
   "metadata": {},
   "source": [
    "We begin with the points $O, P, Q$. \n",
    "\n",
    "$X$ is at the mid point from $P$ to $Q$."
   ]
  },
  {
   "cell_type": "code",
   "execution_count": 1,
   "metadata": {
    "jupyter": {
     "source_hidden": true
    }
   },
   "outputs": [
    {
     "data": {
      "image/png": "[encoded data removed]",
      "text/plain": [
       "<Figure size 432x288 with 1 Axes>"
      ]
     },
     "metadata": {
      "needs_background": "light"
     },
     "output_type": "display_data"
    }
   ],
   "source": [
    "#The solution to problem 1A-4a is best visualised.\n",
    "#1A-4a:1\n",
    "import numpy as np\n",
    "import matplotlib.pyplot as plt\n",
    "\n",
    "# define the points, at arbitrary locations\n",
    "P = np.r_[1, 3.0]\n",
    "Q = np.r_[3.0, 2]\n",
    "O = np.r_[0.0, 0.0]\n",
    "X = (P+Q) / 2\n",
    "\n",
    "fig1, ax = plt.subplots()\n",
    "ax.axis(False)\n",
    "\n",
    "for label, xy in dict(P=P, Q=Q, O=O, X=X).items():\n",
    "    ax.plot(*xy, 'k.')\n",
    "    ax.text(*xy+.05, f'${label}$', size = 14)"
   ]
  },
  {
   "cell_type": "markdown",
   "metadata": {},
   "source": [
    "Now consider the vectors $\\vec{OP}$, $\\vec{OX}$, and $\\vec{OQ}$.\n",
    "Let $R$ be the point at $\\vec{OP} + \\vec{OQ}$"
   ]
  },
  {
   "cell_type": "code",
   "execution_count": 2,
   "metadata": {
    "jupyter": {
     "source_hidden": true
    }
   },
   "outputs": [
    {
     "data": {
      "image/png": "[encoded data removed]",
      "text/plain": [
       "<Figure size 432x288 with 1 Axes>"
      ]
     },
     "metadata": {
      "needs_background": "light"
     },
     "output_type": "display_data"
    }
   ],
   "source": [
    "#1A-4a:2\n",
    "\n",
    "fig2, ax = plt.subplots()\n",
    "ax.axis(False)\n",
    "\n",
    "for label, xy in {\"P\":P, \"Q\":Q, \"O\":O, \"X\":X, r\"\\mathbf{OP}+\\mathbf{OQ}\":P+Q}.items():\n",
    "    ax.plot(*xy, 'k.')\n",
    "    ax.text(*xy+.05, f'${label}$', size = 14,)"
   ]
  },
  {
   "cell_type": "code",
   "execution_count": 3,
   "metadata": {
    "jupyter": {
     "source_hidden": true
    }
   },
   "outputs": [
    {
     "data": {
      "image/png": "[encoded data removed]",
      "text/plain": [
       "<Figure size 432x288 with 1 Axes>"
      ]
     },
     "metadata": {
      "needs_background": "light"
     },
     "output_type": "display_data"
    }
   ],
   "source": [
    "#1A-4a:3\n",
    "\n",
    "fig3, ax = plt.subplots()\n",
    "ax.axis(False)\n",
    "\n",
    "for label, xy in {\"P\":P, \"Q\":Q, \"O\":O, \"X\":X, r\"\\mathbf{OP}+\\mathbf{OQ} = 2\\mathbf{OX}\":P+Q}.items():\n",
    "    ax.plot(*xy, 'k.')\n",
    "    ax.text(*xy+.05, f'${label}$', size = 14,)"
   ]
  },
  {
   "cell_type": "markdown",
   "metadata": {},
   "source": [
    "$$\n",
    "\\vec{OX} = \\vec{OP} + \\vec{PX} \\\\\n",
    "\\vec{PX} = \\frac{1}{2}\\vec{PQ} \\\\\n",
    "\\newline\\newline\n",
    "\\vec{OX} = \\vec{OQ} + \\vec{QX}\\\\\n",
    "\\vec{QX} = -\\frac{1}{2}\\vec{PQ} \\\\\n",
    "%\\begin{align}\n",
    "%\\end{align}\n",
    "$$"
   ]
  },
  {
   "cell_type": "markdown",
   "metadata": {},
   "source": [
    "*b)* With the notation of part (a), assume that $X$ divides the line segment $PQ$ in the ratio $r : s$, where $r + s =1$. Derive an expression for $OX$ in terms of $OP$ and $OQ$."
   ]
  },
  {
   "cell_type": "markdown",
   "metadata": {},
   "source": [
    "> Consider first an expression for the vector $\\vec{OX}$. \n",
    "> We start at $O$, move to $P$, then from $P$ go to $X$, \n",
    "> thus $\\vec{OX} = \\vec{OP} + \\vec{PX}$. \n",
    "> We know that from $P$ to $X$ we need to travel a fraction of the distance from $P$ to $Q$. \n",
    "> Specifically, $\\vec{PX} = r\\vec{PQ}$. Thus $\\vec{OX} = \\vec{OP} + r\\vec{PQ}$.\n",
    ">\n",
    "> We also can formulate an expression for $\\vec{PQ}$ in terms of the points $O$, $P$, and $Q$.\n",
    "> $\\vec{PQ} = \\vec{OQ} - \\vec{OP}$  \n",
    ">$\\therefore$\n",
    ">\n",
    ">$$\n",
    "    \\begin{align}\n",
    "    \\vec{OX} &= \\vec{OP} + r(\\vec{OQ} - \\vec{OP})\\\\\n",
    "    &= \\vec{OP} + r\\vec{OQ} - r\\vec{OP})\\\\\n",
    "    &= r\\vec{OQ} - (r-1)\\vec{OP})\\\\\n",
    "    &= r\\vec{OQ} + (1-r)\\vec{OP})\n",
    "    \\end{align}\\\\\n",
    "    s = 1 - r\\\\\n",
    "    \\therefore\n",
    "    \\vec{OX} = r\\vec{OQ} + s\\vec{OP}\n",
    "$$"
   ]
  },
  {
   "cell_type": "markdown",
   "metadata": {},
   "source": [
    "--------------------------------\n",
    "\n",
    "### 1A-6\n",
    "\n",
    "A small plane wishes to fly due north at 200 mph (as seen from the ground), in a wind blowing from the north east at 50 mph. Tell with what vector velocity in the air it should travel (give the $i\\ j$-components). "
   ]
  },
  {
   "cell_type": "markdown",
   "metadata": {},
   "source": [
    "> Lets say that due north is the $j$ direction, namely $<0,1>$, because that lines up with the image I have for the y-axis, and thus, east is in the direction of $i$, $<1,0>$.\n",
    "> Our target is a vector $T = <0, 200> = (0\\i + 200\\j)$. \n",
    "> The windspeed, $|\\vec{W})|$ is 50 mph, and has a direction $\\hat{\\vec{W}} = \\frac{1}{\\sqrt{2}}(i + j)$\n",
    "> Thus our heading velocity $\\vec{V}$ ought to be $\\vec{T} - \\vec{W}$\n",
    ">$$\n",
    "\\begin{align}\n",
    "\\vec{V} &= \\vec{T} - \\vec{W}\\\\\n",
    "&= 200\\j - \\frac{50}{\\sqrt{2}}(i+j)\\\\\n",
    "&= (- \\frac{50}{\\sqrt{2}}i + (200  - \\frac{50}{\\sqrt{2}}) \\j)\\\\\n",
    "\\therefore \\vec{V} &\\approx (- 35.4 \\i + 164.6 \\j)\\ \\text{mph}\n",
    "\\end{align}\n",
    "$$"
   ]
  },
  {
   "cell_type": "markdown",
   "metadata": {},
   "source": [
    "----------------------------\n",
    "\n",
    "### 1A-7\n",
    "\n",
    "Let $\\vec{A} = a\\i + b\\j$ be a plane vector; find in terms of $a$ and $b$ the vectors $\\vec{A}′$ and $\\vec{A}′′$ resulting from rotating $\\vec{A}$ by $90\\deg$ a) clockwise b) counterclockwise. \n",
    "\n",
    "(Hint: make $\\vec{A}$ the diagonal of a rectangle with sides on the $x$ and $y$-axes, and rotate the whole rectangle.)"
   ]
  },
  {
   "cell_type": "code",
   "execution_count": null,
   "metadata": {},
   "outputs": [],
   "source": []
  },
  {
   "cell_type": "markdown",
   "metadata": {},
   "source": [
    "a)\n",
    "\n",
    "$$\n",
    "\\begin{align}\n",
    "\\vec{A} &= a\\i + b\\j\\\\\n",
    "&= a<1,0> + b<0,1>\\\\\n",
    "\\end{align}\\\\\n",
    "$$\n",
    "$$\n",
    "\\begin{align}\n",
    "\\vec{A′} &= a<0,-1> + b <1,0>\\\\\n",
    "&= -a\\j + b\\i\\\\\n",
    "\\end{align}\\\\\n",
    "$$\n",
    "$$\n",
    "\\begin{align}\n",
    "\\vec{A′′} &= a<0,1> + b <-1,0>\\\\\n",
    "&= a\\j - b \\i\\\\\n",
    "\\end{align}\n",
    "$$\n",
    "\n"
   ]
  },
  {
   "cell_type": "markdown",
   "metadata": {},
   "source": [
    "c) Let $\\i' =(3\\i +4\\j)/5$. Show that $\\i'$ is a unit vector, and use the first part of the exercise to find a vector $\\j'$ such that $\\i'$ , $\\j'$ forms a right-handed coordinate system. "
   ]
  },
  {
   "cell_type": "code",
   "execution_count": null,
   "metadata": {},
   "outputs": [],
   "source": []
  }
 ],
 "metadata": {
  "kernelspec": {
   "display_name": "Python 3",
   "language": "python",
   "name": "python3"
  },
  "language_info": {
   "codemirror_mode": {
    "name": "ipython",
    "version": 3
   },
   "file_extension": ".py",
   "mimetype": "text/x-python",
   "name": "python",
   "nbconvert_exporter": "python",
   "pygments_lexer": "ipython3",
   "version": "3.8.6"
  }
 },
 "nbformat": 4,
 "nbformat_minor": 4
}
