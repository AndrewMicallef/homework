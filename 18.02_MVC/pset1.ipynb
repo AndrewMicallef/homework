{
 "cells": [
  {
   "cell_type": "markdown",
   "metadata": {},
   "source": [
    "# __210120__"
   ]
  },
  {
   "cell_type": "markdown",
   "metadata": {},
   "source": [
    "# 1. Vectors and Matrices"
   ]
  },
  {
   "cell_type": "markdown",
   "metadata": {},
   "source": [
    "## 1.A Vectors"
   ]
  },
  {
   "cell_type": "markdown",
   "metadata": {},
   "source": [
    "### **1A-1**\n",
    "\n",
    "Find the magnitude and direction of the vectors"
   ]
  },
  {
   "cell_type": "markdown",
   "metadata": {},
   "source": [
    "*a)* $\\mathbf{i} + \\mathbf{j} + \\mathbf{k}$"
   ]
  },
  {
   "cell_type": "markdown",
   "metadata": {},
   "source": [
    "> $ = <1, 0, 0> + <0,1,0> + <0,0,1>$  \n",
    "> $ = <1,1,1>$  \n",
    "> \n",
    "> \n",
    "> $ \\text{dir} \\ \\mathbf{A} = \\frac{\\mathbf{A}}{|\\mathbf{A}|}$  \n",
    "> \n",
    "> $ = \\frac{<1,1,1>}{\\sqrt{3}}$\n",
    "> \n",
    "> $ = <\\frac{1}{\\sqrt{3}}, \\frac{1}{\\sqrt{3}},\\frac{1}{\\sqrt{3}}>$\n",
    "\n"
   ]
  },
  {
   "cell_type": "markdown",
   "metadata": {},
   "source": [
    "*b)* $2\\mathbf{i} - \\mathbf{j} + 2\\mathbf{k}$"
   ]
  },
  {
   "cell_type": "markdown",
   "metadata": {},
   "source": [
    "> $ = <2, 0, 0> - <0,1,0> + <0,0,2>$  \n",
    "> $ = <2,-1,2>$  \n",
    "> $ = \\frac{<2,-1,2>}{\\sqrt{2^2 + 1 + 2^2}}$  \n",
    "> $ = \\frac{<2,-1,2>}{\\sqrt{4 + 1 + 4}}$  \n",
    "> $ = \\frac{<2,-1,2>}{\\sqrt{9}}$  \n",
    "> $ = \\frac{<2,-1,2>}{3}$  \n",
    "> \n",
    "> $ = <\\frac{2}{3}, -\\frac{1}{3},\\frac{2}{3}>$\n"
   ]
  },
  {
   "cell_type": "markdown",
   "metadata": {},
   "source": [
    "*c)* $3\\mathbf{i} - 6\\mathbf{j} + 2\\mathbf{k}$"
   ]
  },
  {
   "cell_type": "markdown",
   "metadata": {},
   "source": [
    "> $ = <3, 0, 0> - <0,6,0> + <0,0,2>$  \n",
    "> $ = <3,-6,2>$  \n",
    "> $ = \\frac{<3,-6,2>}{\\sqrt{3^2 + -6^2 + 2^2}}$  \n",
    "> $ = \\frac{<3,-6,2>}{\\sqrt{9 + -36 + 4}}$  \n",
    "> $ = \\frac{<3,-6,2>}{\\sqrt{-23}}$  \n",
    "> \n",
    "> \n",
    "> $ = <\\frac{3}{\\sqrt{-23}}, -\\frac{6}{\\sqrt{-23}},\\frac{2}{\\sqrt{-23}}>$\n"
   ]
  },
  {
   "cell_type": "markdown",
   "metadata": {},
   "source": [
    "---------------------------------------\n",
    "\n",
    "### **1A-2** \n",
    "\n",
    "For what value(s) of $c$ will $\\frac{1}{5} \\mathbf{i} - \\frac{1}{5} \\mathbf{j} +c \\mathbf{k}$ be a unit vector?"
   ]
  },
  {
   "cell_type": "markdown",
   "metadata": {},
   "source": [
    "> A unit vector $\\mathbf{v}$ has $|\\mathbf{v}| = 1$.\n",
    "> \n",
    "> Thus for the vector $\\mathbf{v}$ with components $<a, b, c>$, \n",
    "> $\\sqrt{a^2 + b^2 + c^2} = 1$.\n",
    "> \n",
    "> $ c = 1 - (a^2 + b^2)$\n",
    "> \n",
    "> $ c = 1 - (\\frac{1}{5}^2 + \\frac{1}{5}^2)$  \n",
    "> $ c = 1 - 2(\\frac{1}{5}^2)$  \n",
    "> $ c = 1 - (\\frac{2}{25})$  \n",
    "> $ c = \\frac{23}{25}$  \n",
    "\n",
    "\n",
    "\n",
    "\n"
   ]
  },
  {
   "cell_type": "markdown",
   "metadata": {},
   "source": [
    "---------------------\n",
    "### **1A-3**"
   ]
  },
  {
   "cell_type": "markdown",
   "metadata": {},
   "source": [
    "*a)* (the following notation impiles $P$ and $Q$ are points, and $A$ is a vector joining them)\n",
    "\n",
    "If $P = (1,3,-1)$ and $Q = (0,1,1)$, find $\\mathbf{A} = PQ$, $|\\mathbf{A}|$ and $\\text{dir}\\ A$"
   ]
  },
  {
   "cell_type": "markdown",
   "metadata": {},
   "source": [
    "> $$\n",
    " \\begin{align}\n",
    " \\mathbf{A} &= P - Q \\\\\n",
    " &= (1,3,-1) - (0,1,1) \\\\\n",
    " &= <1,2,-2> \\\\\n",
    " \\\\\n",
    " |\\mathbf{A}| &= \\sqrt{1^2 + 2^2 + (-2)^2}\\\\\n",
    " &=\\sqrt{1+4+4}\\\\\n",
    " &=\\sqrt{9}\\\\\n",
    "  &=3\\\\\n",
    "  \\\\\n",
    " \\text{dir} \\ \\mathbf{A} &= \\frac{\\mathbf{A}}{|\\mathbf{A}|}\\\\\n",
    " &= \\frac{1}{3} <1,2,-2>\\\\\n",
    " &= <\\frac{1}{3},\\frac{2}{3},\\frac{-2}{3}>\\\\\n",
    " \\end{align}\n",
    " $$"
   ]
  },
  {
   "cell_type": "markdown",
   "metadata": {},
   "source": [
    "*This cell contains Tex command definitions*\n",
    "$\\newcommand{\\i}{\\mathbf{i}}$ \n",
    "$\\newcommand{\\j}{\\mathbf{j}}$\n",
    "$\\newcommand{\\k}{\\mathbf{k}}$ \n",
    "$\\newcommand{\\vec}[1]{\\mathbf{#1}}$ \n",
    "$\\newcommand{\\deg}{^\\circ}$"
   ]
  },
  {
   "cell_type": "markdown",
   "metadata": {},
   "source": [
    "b) A vector $\\vec{A}$ has magnitude 6 and direction $(\\i + 2\\j - 2\\k)/3$. If it's tail is at $(-2, 0 , 1)$, where is it's head?"
   ]
  },
  {
   "cell_type": "markdown",
   "metadata": {},
   "source": [
    "Let $A_t$ and $A_h$ represent the tip and the tail of the vector $\\vec{A}$, respectivley.\n",
    "To get to the head of the vector all we need to do is start at the point $A_t$ and travel 6 units in the direction of $\\vec{A}$.\n",
    "Which is to say: \n",
    "$$\n",
    "\\begin{align}\n",
    "A_h &= A_t + \\vec{A}\\\\\n",
    "&= (-2,0,1) + 6(\\i + 2\\j - 2\\k)/3\\\\\n",
    "&= (-2,0,1) + 2(\\i + 2\\j - 2\\k)\\\\\n",
    "&= (-2,0,1) + <2,4, -4>\\\\\n",
    "&= (0,4,-3)\\\\\n",
    "\\end{align}\n",
    "$$"
   ]
  },
  {
   "cell_type": "markdown",
   "metadata": {},
   "source": [
    "-------------------------------------\n",
    "\n",
    "### **1A-4**\n",
    "\n",
    "*a)*\n",
    "Let $P$ and $Q$ be two points in space, and $X$ the mid point of the line segment $PQ$. Let $O$ be an arbitrary fixed point; show that as vectors, $OX = \\frac{1}{2}(OP + OQ)$. "
   ]
  },
  {
   "cell_type": "markdown",
   "metadata": {},
   "source": [
    "We begin with the points $O, P, Q$. \n",
    "\n",
    "$X$ is at the mid point from $P$ to $Q$."
   ]
  },
  {
   "cell_type": "code",
   "execution_count": 1,
   "metadata": {
    "jupyter": {
     "source_hidden": true
    }
   },
   "outputs": [
    {
     "data": {
      "image/png": "[encoded data removed]",
      "text/plain": [
       "<Figure size 432x288 with 1 Axes>"
      ]
     },
     "metadata": {
      "needs_background": "light"
     },
     "output_type": "display_data"
    }
   ],
   "source": [
    "#The solution to problem 1A-4a is best visualised.\n",
    "#1A-4a:1\n",
    "import numpy as np\n",
    "import matplotlib.pyplot as plt\n",
    "\n",
    "# define the points, at arbitrary locations\n",
    "P = np.r_[1, 3.0]\n",
    "Q = np.r_[3.0, 2]\n",
    "O = np.r_[0.0, 0.0]\n",
    "X = (P+Q) / 2\n",
    "\n",
    "fig1, ax = plt.subplots()\n",
    "ax.axis(False)\n",
    "\n",
    "for label, xy in dict(P=P, Q=Q, O=O, X=X).items():\n",
    "    ax.plot(*xy, 'k.')\n",
    "    ax.text(*xy+.05, f'${label}$', size = 14)"
   ]
  },
  {
   "cell_type": "markdown",
   "metadata": {},
   "source": [
    "Now consider the vectors $\\vec{OP}$, $\\vec{OX}$, and $\\vec{OQ}$.\n",
    "Let $R$ be the point at $\\vec{OP} + \\vec{OQ}$"
   ]
  },
  {
   "cell_type": "code",
   "execution_count": 2,
   "metadata": {
    "jupyter": {
     "source_hidden": true
    }
   },
   "outputs": [
    {
     "data": {
      "image/png": "[encoded data removed]",
      "text/plain": [
       "<Figure size 432x288 with 1 Axes>"
      ]
     },
     "metadata": {
      "needs_background": "light"
     },
     "output_type": "display_data"
    }
   ],
   "source": [
    "#1A-4a:2\n",
    "\n",
    "fig2, ax = plt.subplots()\n",
    "ax.axis(False)\n",
    "\n",
    "for label, xy in {\"P\":P, \"Q\":Q, \"O\":O, \"X\":X, r\"\\mathbf{OP}+\\mathbf{OQ}\":P+Q}.items():\n",
    "    ax.plot(*xy, 'k.')\n",
    "    ax.text(*xy+.05, f'${label}$', size = 14,)"
   ]
  },
  {
   "cell_type": "code",
   "execution_count": 3,
   "metadata": {
    "jupyter": {
     "source_hidden": true
    }
   },
   "outputs": [
    {
     "data": {
      "image/png": "[encoded data removed]",
      "text/plain": [
       "<Figure size 432x288 with 1 Axes>"
      ]
     },
     "metadata": {
      "needs_background": "light"
     },
     "output_type": "display_data"
    }
   ],
   "source": [
    "#1A-4a:3\n",
    "\n",
    "fig3, ax = plt.subplots()\n",
    "ax.axis(False)\n",
    "\n",
    "for label, xy in {\"P\":P, \"Q\":Q, \"O\":O, \"X\":X, r\"\\mathbf{OP}+\\mathbf{OQ} = 2\\mathbf{OX}\":P+Q}.items():\n",
    "    ax.plot(*xy, 'k.')\n",
    "    ax.text(*xy+.05, f'${label}$', size = 14,)"
   ]
  },
  {
   "cell_type": "markdown",
   "metadata": {},
   "source": [
    "$$\n",
    "\\vec{OX} = \\vec{OP} + \\vec{PX} \\\\\n",
    "\\vec{PX} = \\frac{1}{2}\\vec{PQ} \\\\\n",
    "\\newline\\newline\n",
    "\\vec{OX} = \\vec{OQ} + \\vec{QX}\\\\\n",
    "\\vec{QX} = -\\frac{1}{2}\\vec{PQ} \\\\\n",
    "%\\begin{align}\n",
    "%\\end{align}\n",
    "$$"
   ]
  },
  {
   "cell_type": "markdown",
   "metadata": {},
   "source": [
    "*b)* With the notation of part (a), assume that $X$ divides the line segment $PQ$ in the ratio $r : s$, where $r + s =1$. Derive an expression for $OX$ in terms of $OP$ and $OQ$."
   ]
  },
  {
   "cell_type": "markdown",
   "metadata": {},
   "source": [
    "> Consider first an expression for the vector $\\vec{OX}$. \n",
    "> We start at $O$, move to $P$, then from $P$ go to $X$, \n",
    "> thus $\\vec{OX} = \\vec{OP} + \\vec{PX}$. \n",
    "> We know that from $P$ to $X$ we need to travel a fraction of the distance from $P$ to $Q$. \n",
    "> Specifically, $\\vec{PX} = r\\vec{PQ}$. Thus $\\vec{OX} = \\vec{OP} + r\\vec{PQ}$.\n",
    ">\n",
    "> We also can formulate an expression for $\\vec{PQ}$ in terms of the points $O$, $P$, and $Q$.\n",
    "> $\\vec{PQ} = \\vec{OQ} - \\vec{OP}$  \n",
    ">$\\therefore$\n",
    ">\n",
    ">$$\n",
    "    \\begin{align}\n",
    "    \\vec{OX} &= \\vec{OP} + r(\\vec{OQ} - \\vec{OP})\\\\\n",
    "    &= \\vec{OP} + r\\vec{OQ} - r\\vec{OP})\\\\\n",
    "    &= r\\vec{OQ} - (r-1)\\vec{OP})\\\\\n",
    "    &= r\\vec{OQ} + (1-r)\\vec{OP})\n",
    "    \\end{align}\\\\\n",
    "    s = 1 - r\\\\\n",
    "    \\therefore\n",
    "    \\vec{OX} = r\\vec{OQ} + s\\vec{OP}\n",
    "$$"
   ]
  },
  {
   "cell_type": "markdown",
   "metadata": {},
   "source": [
    "--------------------------------\n",
    "\n",
    "### 1A-6\n",
    "\n",
    "A small plane wishes to fly due north at 200 mph (as seen from the ground), in a wind blowing from the north east at 50 mph. Tell with what vector velocity in the air it should travel (give the $i\\ j$-components). "
   ]
  },
  {
   "cell_type": "markdown",
   "metadata": {},
   "source": [
    "> Lets say that due north is the $j$ direction, namely $<0,1>$, because that lines up with the image I have for the y-axis, and thus, east is in the direction of $i$, $<1,0>$.\n",
    "> Our target is a vector $T = <0, 200> = (0\\i + 200\\j)$. \n",
    "> The windspeed, $|\\vec{W})|$ is 50 mph, and has a direction $\\hat{\\vec{W}} = \\frac{1}{\\sqrt{2}}(i + j)$\n",
    "> Thus our heading velocity $\\vec{V}$ ought to be $\\vec{T} - \\vec{W}$\n",
    ">$$\n",
    "\\begin{align}\n",
    "\\vec{V} &= \\vec{T} - \\vec{W}\\\\\n",
    "&= 200\\j - \\frac{50}{\\sqrt{2}}(i+j)\\\\\n",
    "&= (- \\frac{50}{\\sqrt{2}}i + (200  - \\frac{50}{\\sqrt{2}}) \\j)\\\\\n",
    "\\therefore \\vec{V} &\\approx (- 35.4 \\i + 164.6 \\j)\\ \\text{mph}\n",
    "\\end{align}\n",
    "$$"
   ]
  },
  {
   "cell_type": "markdown",
   "metadata": {},
   "source": [
    "----------------------------\n",
    "\n",
    "### 1A-7\n",
    "\n",
    "Let $\\vec{A} = a\\i + b\\j$ be a plane vector; find in terms of $a$ and $b$ the vectors $\\vec{A}′$ and $\\vec{A}′′$ resulting from rotating $\\vec{A}$ by $90\\deg$ a) clockwise b) counterclockwise. \n",
    "\n",
    "(Hint: make $\\vec{A}$ the diagonal of a rectangle with sides on the $x$ and $y$-axes, and rotate the whole rectangle.)"
   ]
  },
  {
   "cell_type": "markdown",
   "metadata": {},
   "source": [
    "a)\n",
    "$$\n",
    "\\begin{align}\n",
    "\\vec{A} &= a\\i + b\\j\\\\\n",
    "&= a<1,0> + b<0,1>\\\\\n",
    "\\end{align}\\\\\n",
    "$$\n",
    "$$\n",
    "\\begin{align}\n",
    "\\vec{A′} &= a<0,-1> + b <1,0>\\\\\n",
    "&= b\\i -a\\j\\\\\n",
    "\\end{align}\\\\\n",
    "$$\n",
    "$$\n",
    "\\begin{align}\n",
    "\\vec{A′′} &= a<0,1> + b <-1,0>\\\\\n",
    "&= - b \\i + a\\j\\\\\n",
    "\\end{align}\n",
    "$$\n",
    "\n"
   ]
  },
  {
   "cell_type": "markdown",
   "metadata": {},
   "source": [
    "> Consider the vector <span style=\"color:#1f77b4\">$\\vec{A}$</span>, composed of <span style=\"color:#ff7f0e\">$a\\vec{i}$</span>$ + $<span style=\"color:#2ca02c\">$b\\vec{j}$</span>."
   ]
  },
  {
   "cell_type": "code",
   "execution_count": 1,
   "metadata": {
    "jupyter": {
     "source_hidden": true
    }
   },
   "outputs": [
    {
     "data": {
      "image/png": "[encoded data removed]",
      "text/plain": [
       "<Figure size 432x288 with 1 Axes>"
      ]
     },
     "metadata": {
      "needs_background": "light"
     },
     "output_type": "display_data"
    }
   ],
   "source": [
    "#1A-7 fig1\n",
    "\n",
    "import numpy as np\n",
    "import matplotlib.pyplot as plt\n",
    "\n",
    "%matplotlib inline\n",
    "\n",
    "i = np.r_[1,0]\n",
    "j = np.r_[0,1]\n",
    "a,b = 3,1\n",
    "\n",
    "A = a*i + b*j\n",
    "\n",
    "fig1, ax = plt.subplots()\n",
    "\n",
    "ax.axis(False)\n",
    "ax.set_aspect('equal', 'box')\n",
    "\n",
    "arrowprops = dict(lw=0, width=0.02, head_width = 0.1, head_length = 0.2, length_includes_head = True)\n",
    "\n",
    "ax.text(*(A/2 +.2), 'A', size=15, color='C0')\n",
    "ax.arrow(0,0, *A, ec='C0', fc='C0', **arrowprops);\n",
    "\n",
    "ax.text(*(a*i/2 -.3), r'$a\\vec{i}$', size=15, color='C1')\n",
    "ax.arrow(0,0, *(a*i), ec='C1', fc='C1', **arrowprops, alpha=0.7);\n",
    "\n",
    "ax.text(*(b*j/2 + (a+.05)*i), r'$b\\vec{j}$', size=15, color='C2')\n",
    "ax.arrow(*(a*i), *(b*j), ec='C2', fc='C2', **arrowprops, alpha=0.7);"
   ]
  },
  {
   "cell_type": "markdown",
   "metadata": {},
   "source": [
    "> $\\vec{A}'$ is the vector resulting from rotating <span style=\"color:#1f77b4\">$\\vec{A}$</span> by $90\\deg$"
   ]
  },
  {
   "cell_type": "code",
   "execution_count": 2,
   "metadata": {
    "jupyter": {
     "source_hidden": true
    }
   },
   "outputs": [
    {
     "data": {
      "image/png": "[encoded data removed]",
      "text/plain": [
       "<Figure size 432x288 with 1 Axes>"
      ]
     },
     "metadata": {
      "needs_background": "light"
     },
     "output_type": "display_data"
    }
   ],
   "source": [
    "#1A-7 fig2\n",
    "\n",
    "A_ = b*i + -a*j\n",
    "\n",
    "fig2, ax = plt.subplots()\n",
    "\n",
    "ax.axis(False)\n",
    "ax.set_aspect('equal', 'box')\n",
    "\n",
    "ax.text(*(A/2 +.2), 'A', size=15, color='C0')\n",
    "ax.arrow(0,0, *A, ec='C0', fc='C0', **arrowprops);\n",
    "\n",
    "ax.text(*(A_/2 +.2), r\"$\\vec{A'}$\", size=15, color='k')\n",
    "ax.arrow(0,0, *A_, ec='k', fc='k', **arrowprops, alpha=0.7);\n"
   ]
  },
  {
   "cell_type": "markdown",
   "metadata": {},
   "source": [
    "> Just like $\\vec{A}$, $\\vec{A}'$ is composed of a linear combination of $\\i$ and $\\j$.\n",
    "We can write $\\vec{A}' = u\\i + v\\j$, where $u$ and $v$ are scalars."
   ]
  },
  {
   "cell_type": "markdown",
   "metadata": {},
   "source": [
    "> We also know that $|\\vec{A}'| = |\\vec{A}| = 1$, and because $\\vec{A}'$ is $90\\deg$ to $\\vec{A}$ we know that $\\vec{A} \\cdot \\vec{A}' = 0$ (Review the problems on dot products if that isnt immediatly obvious.)"
   ]
  },
  {
   "cell_type": "code",
   "execution_count": 6,
   "metadata": {
    "jupyter": {
     "source_hidden": true
    }
   },
   "outputs": [
    {
     "data": {
      "image/png": "[encoded data removed]",
      "text/plain": [
       "<Figure size 432x288 with 1 Axes>"
      ]
     },
     "metadata": {
      "needs_background": "light"
     },
     "output_type": "display_data"
    }
   ],
   "source": [
    "#1A-7 fig3\n",
    "\n",
    "u, v = A_\n",
    "\n",
    "fig3, ax = plt.subplots()\n",
    "\n",
    "ax.axis(False)\n",
    "ax.set_aspect('equal', 'box')\n",
    "\n",
    "ax.text(*(A/2 +.2), 'A', size=15, color='C0')\n",
    "ax.arrow(0,0, *A, ec='C0', fc='C0', **arrowprops);\n",
    "\n",
    "ax.text(*(A_/2 +.2), r\"$\\vec{A'}$\", size=15, color='k')\n",
    "ax.arrow(0,0, *A_, ec='k', fc='k', **arrowprops, alpha=0.7);\n",
    "\n",
    "ax.text(*(u*i/2 -.3), r'$u\\vec{i}$', size=15, color='C3')\n",
    "ax.arrow(0,0, *(u*i), ec='C3', fc='C3', **arrowprops, alpha=0.7);\n",
    "\n",
    "ax.text(*(v*j/2 + (u+.05)*i), r'$v\\vec{j}$', size=15, color='C4')\n",
    "ax.arrow(*(u*i), *(v*j), ec='C4', fc='C4', **arrowprops, alpha=0.7);\n"
   ]
  },
  {
   "cell_type": "markdown",
   "metadata": {},
   "source": [
    "> So from above, we also deduce the following,\n",
    "$$\n",
    "\\begin{align}\n",
    "\\sqrt{u^2 + v^2} &= 1\\\\\n",
    "u^2 + v^2 &= 1^2\\\\\n",
    "u^2 &= 1 - v^2\\\\\n",
    "u &= \\sqrt{1 - v^2}\\\\\n",
    "\\end{align}\n",
    "$$\n",
    "Though, it isn't clear to what extent that helps me..."
   ]
  },
  {
   "cell_type": "markdown",
   "metadata": {},
   "source": [
    ">Lets look at the solutions to $\\vec{A} \\cdot \\vec{A}' = 0$ for a moment. Since $\\vec{A} = a\\i + b\\j$ we can substitute $a$ and $b$ for $A_1$ and $A_2$ respectivley.\n",
    "\n",
    ">$$\n",
    "\\begin{align}\n",
    "\\vec{A} \\cdot \\vec{A}' &= {A_1}{A'}_1 + {A_2}{A'}_2 = 0\\\\\n",
    "\\text{becomes}\\\\\n",
    "&= a{A'}_1 + b{A'}_2\\\\\n",
    "\\text{and so}\\\\\n",
    "a{A'}_1 &= - b{A'}_2\n",
    "\\end{align}\n",
    "$$"
   ]
  },
  {
   "cell_type": "markdown",
   "metadata": {},
   "source": [
    "> We also know that $\\vec{A}' = u\\i + v\\j$, and so we can rewrite the above expression as\n",
    "$$\n",
    "au = - bv\n",
    "$$"
   ]
  },
  {
   "cell_type": "markdown",
   "metadata": {},
   "source": [
    "> rearranging we get\n",
    "$$\n",
    "\\frac{a}{b} = - \\frac{v}{u}\n",
    "$$"
   ]
  },
  {
   "cell_type": "markdown",
   "metadata": {},
   "source": [
    "> Looking back, we know that the lengths of the two vectors are the same, so we have\n",
    "> $$\n",
    "\\begin{align}\n",
    "\\sqrt{a^2 + b^2} &= \\sqrt{v^2 + u^2}\\\\\n",
    "a^2 + b^2 &= v^2 + u^2\\\\\n",
    "\\end{align}\n",
    "$$"
   ]
  },
  {
   "cell_type": "markdown",
   "metadata": {},
   "source": [
    "> rearanging to get $a$ by itself in both cases\n",
    "$$\n",
    "a = -\\frac{bv}{u}\\\\\n",
    "a^2 = u^2 + v^2 - b^2\n",
    "$$"
   ]
  },
  {
   "cell_type": "markdown",
   "metadata": {},
   "source": [
    "> and now substituting the equations into each other\n",
    "$$\n",
    "\\begin{align}\n",
    "{-\\frac{bv}{u}}^2 &= u^2 + v^2 -b^2\\\\\n",
    "-{bv}^2 &= u^4 + u^2v^2 -u^2b^2\\\\\n",
    "b^2v^2 &= u^4 + u^2v^2 -u^2b^2\\\\\n",
    "0 &= u^4 + u^2v^2 -u^2b^2 - b^2v^2\\\\\n",
    "&= u^4 + u^2v^2 - b^2(u^2 + v^2)\\\\\n",
    "&= u^2(u^2 + v^2) - b^2(u^2 + v^2)\\\\\n",
    "b^2(u^2 + v^2) &= u^2(u^2 + v^2) \\\\\n",
    "b^2 &= u^2 \\\\\n",
    "b &= \\pm u\n",
    "\\end{align}\n",
    "$$"
   ]
  },
  {
   "cell_type": "markdown",
   "metadata": {},
   "source": [
    "> Now we have $b$ in terms of $u$ we can use this to get $a$ in terms of $v$\n",
    "> $$\n",
    "\\begin{align}\n",
    "a &= -\\frac{bv}{u}\\\\\n",
    "a &= \\begin{cases} \n",
    "      -\\frac{uv}{u} & b= u \\\\\n",
    "      \\frac{uv}{u} & b= -u\n",
    "   \\end{cases}\\\\\n",
    "a &= \\begin{cases} \n",
    "      -v & b= u \\\\\n",
    "      v & b= -u\n",
    "   \\end{cases}\n",
    "\\end{align}\n",
    "$$"
   ]
  },
  {
   "cell_type": "markdown",
   "metadata": {},
   "source": [
    "> So finally we can write $\\vec{A}' = b\\i - a\\j$, and $\\vec{A}'' = -b\\i + a\\j$"
   ]
  },
  {
   "cell_type": "markdown",
   "metadata": {},
   "source": [
    "\n",
    "c) Let $\\i' =(3\\i +4\\j)/5$. Show that $\\i'$ is a unit vector, and use the first part of the exercise to find a vector $\\j'$ such that $\\i'$ , $\\j'$ forms a right-handed coordinate system. "
   ]
  },
  {
   "cell_type": "markdown",
   "metadata": {},
   "source": [
    "> In a right hand coordinate system the angle $\\angle\\i\\j = -90\\deg$.\n",
    "> Thus if $\\i'$ is substituted for $\\vec{A}''$ in the above example, $\\j'$ becomes $-b\\i + a\\j$.\n",
    "> In turn this is $\\j' = (-4\\i + 3\\j)/5$."
   ]
  },
  {
   "cell_type": "markdown",
   "metadata": {},
   "source": [
    "-------------------------------------\n",
    "\n",
    "### 1A-8\n",
    "\n",
    "The direction (see definition above) of a space vector is in engineering practice often given by its direction cosines. To describe these, let $\\vec{A} = a\\i + b\\j + c\\k$ be a space vector, represented as an origin vector, and let $\\alpha$, $\\beta$, and $\\gamma$ be the three angles ($\\leq\\pi$) that $\\vec{A}$ makes respectively with $\\i$, $\\j$, and $\\k$. \n",
    "\n",
    "a) Show that dir A = cosαi +cosβj +cosγk . (The three coefficients are called the direction cosines of A.) "
   ]
  },
  {
   "cell_type": "markdown",
   "metadata": {},
   "source": [
    "> $$\n",
    "\\vec{A} = a\\i + b\\j +c\\k\n",
    "$$\n",
    "\n",
    ">Notice that the components $a$ and $b$ define the angle between $\\vec{A}$ and $\\k$"
   ]
  },
  {
   "cell_type": "code",
   "execution_count": 1,
   "metadata": {
    "jupyter": {
     "source_hidden": true
    }
   },
   "outputs": [],
   "source": [
    "#1A-8 fig init\n",
    "\n",
    "import numpy as np\n",
    "import matplotlib.pyplot as plt\n",
    "from mpl_toolkits.mplot3d import Axes3D\n",
    "\n",
    "%matplotlib inline\n",
    "\n",
    "def set_axes_equal(ax):\n",
    "    '''Make axes of 3D plot have equal scale so that spheres appear as spheres,\n",
    "    cubes as cubes, etc..  This is one possible solution to Matplotlib's\n",
    "    ax.set_aspect('equal') and ax.axis('equal') not working for 3D.\n",
    "\n",
    "    Input\n",
    "      ax: a matplotlib axis, e.g., as output from plt.gca().\n",
    "    '''\n",
    "\n",
    "    x_limits = ax.get_xlim3d()\n",
    "    y_limits = ax.get_ylim3d()\n",
    "    z_limits = ax.get_zlim3d()\n",
    "\n",
    "    x_range = abs(x_limits[1] - x_limits[0])\n",
    "    x_middle = np.mean(x_limits)\n",
    "    y_range = abs(y_limits[1] - y_limits[0])\n",
    "    y_middle = np.mean(y_limits)\n",
    "    z_range = abs(z_limits[1] - z_limits[0])\n",
    "    z_middle = np.mean(z_limits)\n",
    "\n",
    "    # The plot bounding box is a sphere in the sense of the infinity\n",
    "    # norm, hence I call half the max range the plot radius.\n",
    "    plot_radius = 0.5*max([x_range, y_range, z_range])\n",
    "\n",
    "    ax.set_xlim3d([x_middle - plot_radius, x_middle + plot_radius])\n",
    "    ax.set_ylim3d([y_middle - plot_radius, y_middle + plot_radius])\n",
    "    ax.set_zlim3d([z_middle - plot_radius, z_middle + plot_radius])\n",
    "\n",
    "arrowprops = dict(lw=0, width=0.02, head_width = 0.1, head_length = 0.2, length_includes_head = True)\n",
    "qprops = dict(arrow_length_ratio=.1)"
   ]
  },
  {
   "cell_type": "code",
   "execution_count": 3,
   "metadata": {
    "jupyter": {
     "source_hidden": true
    }
   },
   "outputs": [
    {
     "data": {
      "image/png": "[encoded data removed]",
      "text/plain": [
       "<Figure size 432x288 with 1 Axes>"
      ]
     },
     "metadata": {
      "needs_background": "light"
     },
     "output_type": "display_data"
    }
   ],
   "source": [
    "i = np.r_[1,0,0]\n",
    "j = np.r_[0,1,0]\n",
    "k = np.r_[0,0,1]\n",
    "o = np.r_[0,0.,0]\n",
    "\n",
    "a,b,c = 3,2,2\n",
    "\n",
    "A = a*i + b*j + c*k\n",
    "\n",
    "Aij = a*i + b*j\n",
    "\n",
    "fig = plt.figure()\n",
    "ax = fig.add_subplot(111, projection='3d')\n",
    "ax.axis(False)\n",
    "#ax.set_aspect('equal')\n",
    "\n",
    "ax.quiver(*o, *i, **qprops, color='r');\n",
    "ax.quiver(*o, *j, **qprops, color='g');\n",
    "ax.quiver(*o, *k,**qprops, color='b');\n",
    "\n",
    "ax.quiver(*o, *A, **qprops, color='k');\n",
    "ax.quiver(*o, *(Aij), **qprops, color='0.4');\n",
    "\n",
    "ax.quiver(*(Aij), *(c*k), color='0.4',**qprops);\n",
    "\n",
    "set_axes_equal(ax)"
   ]
  },
  {
   "cell_type": "markdown",
   "metadata": {},
   "source": [
    "> > Above I have sketched out a representation on $\\vec{A}$ in relation to <span style='color:#f00'>$\\i$</span>, <span style='color:#0b0'>$\\j$</span>, and <span style='color:#00f'>$\\k$</span>. \n",
    ">The longer gray vector shows the projection of $\\vec{A}$ onto the plane spaned by <span style='color:#f00'>$\\i$</span><span style='color:#0b0'>$\\j$</span>.\n",
    "> Focusing our attention just to the last component, we can see that the angle from <span style='color:#00f'>$\\k$</span> to $\\vec{A}$\n",
    "is defined by the triangle it makes with the projection of $\\vec{A}$ onto <span style='color:#f00'>$\\i$</span><span style='color:#0b0'>$\\j$</span>.\n",
    "\n",
    "> The angle $\\gamma$, which is the angle from <span style='color:#00f'>$\\k$</span> to $\\vec{A}$, can be determined from the trig relationship\n",
    "$$\n",
    "\\cos{\\gamma} = \\frac{c}{|\\vec{A}|}\n",
    "$$\n",
    "\n",
    "> Similarly the other angles are thus:\n",
    "$$\n",
    "\\cos{\\alpha} = \\frac{a}{|\\vec{A}|}\\\\\n",
    "\\cos{\\beta} = \\frac{b}{|\\vec{A}|}\n",
    "$$\n",
    "\n",
    "> Finally the direction of $\\vec{A} = \\frac{\\vec{A}}{|\\vec{A}|}$. Therefore \n"
   ]
  },
  {
   "cell_type": "markdown",
   "metadata": {},
   "source": [
    "b) Express the direction cosines of A in terms of a,b,c; find the direction cosines of the vector −i +2j +2k. "
   ]
  },
  {
   "cell_type": "markdown",
   "metadata": {},
   "source": [
    "c) Prove that three numbers t,u,v are the direction cosines of a vector in space if and only if they satisfy t2+ u2+ v2=1."
   ]
  },
  {
   "cell_type": "markdown",
   "metadata": {},
   "source": [
    "----------------------------------------------\n",
    "\n",
    "### 1A-9\n",
    "Prove using vector methods (without components) that the line segment joining the midpoints of two sides of a triangle is parallel to the third side and half its length. (Call the two sides $\\vec{A}$ and $\\vec{B}$.) "
   ]
  },
  {
   "cell_type": "markdown",
   "metadata": {},
   "source": [
    "> Take the triangle formed by the vectors $\\vec{A}$, $\\vec{B}$, and $\\vec{C}$, where $$\n",
    "\\vec{A} + \\vec{B} = \\vec{C}\n",
    "$$\n",
    "\n",
    "> The  midpoints sides $\\vec{A}$ and $\\vec{B}$ are the vectors $\\frac{1}{2}\\vec{A}$, and $\\frac{1}{2}\\vec{B}$ respectivley.\n",
    "> The line segment joining these points can be expressed as a vector, \n",
    "$$\\frac{1}{2}\\vec{A} + \\frac{1}{2}\\vec{B}$$\n",
    "\n",
    "> This is the same as $$\\frac{1}{2} (\\vec{A} + \\vec{B})$$\n",
    "\n",
    "> And because we know that $\\vec{A} + \\vec{B} = \\vec{C}$, we therefore have \n",
    "$$\\frac{1}{2} (\\vec{A} + \\vec{B}) =  \\frac{1}{2} \\vec{C}$$\n",
    "\n",
    "\n",
    "> Thus the line joining the mid"
   ]
  },
  {
   "cell_type": "code",
   "execution_count": null,
   "metadata": {},
   "outputs": [],
   "source": []
  }
 ],
 "metadata": {
  "kernelspec": {
   "display_name": "Python 3",
   "language": "python",
   "name": "python3"
  },
  "language_info": {
   "codemirror_mode": {
    "name": "ipython",
    "version": 3
   },
   "file_extension": ".py",
   "mimetype": "text/x-python",
   "name": "python",
   "nbconvert_exporter": "python",
   "pygments_lexer": "ipython3",
   "version": "3.8.6"
  }
 },
 "nbformat": 4,
 "nbformat_minor": 4
}
