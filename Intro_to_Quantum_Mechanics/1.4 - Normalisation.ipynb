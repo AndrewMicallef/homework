{
 "cells": [
  {
   "cell_type": "markdown",
   "id": "binding-payroll",
   "metadata": {
    "tags": []
   },
   "source": [
    "$$\n",
    "\\require{color}\n",
    "%https://vega.github.io/vega/docs/schemes/#category10\n",
    "\\definecolor{C1}{RGB}{31,119,180}\n",
    "\\definecolor{C2}{RGB}{255,127,14}\n",
    "\\definecolor{C3}{RGB}{44,160,44}\n",
    "\\definecolor{C4}{RGB}{214,39,40}\n",
    "\\definecolor{C5}{RGB}{148,103,189}\n",
    "\\definecolor{C6}{RGB}{140,86,75}\n",
    "\\definecolor{C7}{RGB}{227,119,194}\n",
    "\\definecolor{C8}{RGB}{127,127,127}\n",
    "\\definecolor{C9}{RGB}{188,189,34}\n",
    "\\definecolor{C10}{RGB}{23,190,207}\n",
    "\\def\\CPsi#1{{\\color{C1}\\Psi #1}}\n",
    "$$\n",
    "\n"
   ]
  },
  {
   "cell_type": "markdown",
   "id": "northern-madonna",
   "metadata": {},
   "source": [
    "# 1 The Wave Function\n",
    "\n",
    "## 1.4 Normalisation\n",
    "-----"
   ]
  },
  {
   "cell_type": "markdown",
   "id": "cellular-elizabeth",
   "metadata": {
    "tags": [],
    "toc-hr-collapsed": true
   },
   "source": [
    "## Problem 1.4\n",
    "\n",
    "At time $t = 0$ a particle is represented by the wave function\n",
    "$$\n",
    "\\CPsi{(x,0)} = \\begin{cases} \n",
    "             {\\color{C2}A(x/a)}, & 0\\leq x\\leq a,\\\\\n",
    "             {\\color{C3}A(b - x) / (b-a)}, & a\\leq x\\leq b,\\\\\n",
    "             0 & \\text{otherwise},\n",
    "           \\end{cases}\n",
    "$$\n",
    "\n",
    "where $A$, $a$, and $b$ are (positive) constants."
   ]
  },
  {
   "cell_type": "markdown",
   "id": "incomplete-change",
   "metadata": {},
   "source": [
    "### a) Find A\n",
    "\n",
    "For a probability density function, the total area under the curve must be 1, \n",
    "or more specifically\n",
    "$$\\int\\limits_{-\\infty}^{+\\infty}{|\\CPsi{(x, t)}|^2}dx = 1.$$"
   ]
  },
  {
   "cell_type": "markdown",
   "id": "cardiovascular-tobacco",
   "metadata": {},
   "source": [
    "To find $A$ we need to rearrange the above to become an expression in terms of $A$.\n",
    "To begin with, we take the fact that $|\\CPsi{}|^2 = \\CPsi{^*} \\CPsi{}$, \n",
    "where $\\CPsi{^*}$ is the complex conjugate of $\\CPsi{}$.\n",
    "So now we can see that we in fact have the following expression,\n",
    "$$\\int\\limits_{-\\infty}^{+\\infty}{\\CPsi{^*} \\CPsi{}}dx = 1.$$"
   ]
  },
  {
   "cell_type": "markdown",
   "id": "occupied-classics",
   "metadata": {},
   "source": [
    "We are given $\\CPsi{(x, 0)}$, which we can use to get a value of $A$ at $t=0$. \n",
    "Note, it was demonstrated in the text that \n",
    "$$\n",
    "\\frac{d}{dt} \\int\\limits_{-\\infty}^{+\\infty}{|\\CPsi{(x, t)}|^2}dx = 0,\n",
    "$$\n",
    "so finding $A$ at $t=0$ gives us a normalising factor for all times."
   ]
  },
  {
   "cell_type": "markdown",
   "id": "conscious-canyon",
   "metadata": {},
   "source": [
    "Let's first consider expanding the integrand $\\CPsi{^*} \\CPsi{}$.\n",
    "On the authority of [@leslietownes], $\\CPsi{^*}$ is simply $\\CPsi{}$,\n",
    "because there are no complex numbers involved.\n",
    "So we infact have $$\n",
    "\\CPsi{^2} = \\begin{cases} \n",
    "             \\color{C2}{A^2(x^2/a^2)} , & 0\\leq x\\leq a,\\\\\n",
    "             \\color{C3}{A(\\frac{(b - x)}{(b-a)})^2} , & a\\leq x\\leq b,\\\\\n",
    "             0 & \\text{otherwise}.\n",
    "           \\end{cases}\n",
    "$$\n",
    "\n",
    "[@leslietownes]: https://chat.stackexchange.com/transcript/message/57607173#57607173"
   ]
  },
  {
   "cell_type": "markdown",
   "id": "controlling-python",
   "metadata": {},
   "source": [
    "Notice that $\\Psi$ is piecewise, so we can rewrite our probability density function \n",
    "as a sum of integrals over the different domains.\n",
    "$$\n",
    "\\int\\limits_{-\\infty}^{+\\infty}{\\CPsi{^*} \\CPsi{}}dx,$$\n",
    "becomes$$\n",
    "\\int\\limits_{-\\infty}^{+\\infty}{\\CPsi{^2}}dx,$$\n",
    "which in turn is equivalent to\n",
    "$$\n",
    "{\\color{C2}\\int\\limits_{0}^{a}{A^2\\frac{x^2}{a^2}}dx} +\n",
    "%\n",
    "{\\color{C3}\\int\\limits_{a}^{b}{\\left(\\frac{A(b-x)}{(b-a)}\\right)^2}dx }= 1. \\label{eq:int_sum}$$\n",
    "\n"
   ]
  },
  {
   "cell_type": "markdown",
   "id": "internal-assault",
   "metadata": {},
   "source": [
    "On the left side we have an elementray integral, namely\n",
    "$${\\color{C2}\\int\\limits_{0}^{a}{A^2\\frac{x^2}{a^2}}dx},$$\n",
    "which we know from our [integral tables] is just,\n",
    "$$\n",
    "\\color{C2}{(\\frac{A}{a})^2\\big[\\frac{x^3}{3}\\big]_0^a}.\n",
    "$$\n",
    "This evaluates nicely to,\n",
    "$$\n",
    "{\\color{C2}(\\frac{A}{a})^2\\big[\\frac{a^3}{3}\\big]} = {\\color{C2}A^2\\frac{a}{3}}.\n",
    "$$\n",
    "\n",
    "[integral tables]: http://integral-table.com/\n"
   ]
  },
  {
   "cell_type": "markdown",
   "id": "motivated-sapphire",
   "metadata": {},
   "source": [
    "Meanwhile for the right side integral, we need to stop \n",
    "and listen to Father Ted.\n",
    "> Do NOT unfactor things that are beautifully factored. That is one of the most basic mistakes/sins that students make.\n",
    ">  [`@TedShifrin`] \n",
    "\n",
    "Now ask ourselves:\n",
    "*\"self, how can I get these constants out of my integral?\"*.\n",
    "\n",
    "\n",
    "$${\\color{C3}\\left(\\frac{A(b-x)}{(b-a)}\\right)^2},$$ can become\n",
    "\n",
    "$${\\color{C3}A^2 \\frac{b^2 -2bx + x^2}{b^2 -2ab + a^2}},$$\n",
    "Which in turn is equivalent to,\n",
    "\n",
    "$$\n",
    "{\\color{C3}\n",
    "\\left(\\frac{A^2}{b^2 -2ab + a^2}\\right)(b^2-2bx+x^2)\n",
    "}\n",
    "$$\n",
    "\n",
    "[`@TedShifrin`]: https://chat.stackexchange.com/transcript/message/57613085#57613085\n"
   ]
  },
  {
   "cell_type": "markdown",
   "id": "twelve-syntax",
   "metadata": {},
   "source": [
    "So the right integral becomes,  $$\n",
    "{\\color{C3}\n",
    "\\left(\\frac{A^2}{b^2 -2ab + a^2}\\right)\n",
    "\\int\\limits_a^b{(b^2-2bx+x^2)}dx.\n",
    "}\n",
    "$$\n",
    "We can solve the integral for each term in the polynomial to get.\n",
    "$$\n",
    "{\\color{C3}\n",
    "\\left(\\frac{A^2}{b^2 -2ab + a^2}\\right)\n",
    "%\n",
    "\\left(b^2\\left[x\\right]_a^b\n",
    "-b\\left[x^2\\right]_a^b\n",
    "+\\frac{1}{3}\\left[x^3\\right]_a^b \\right).\n",
    "}\n",
    "$$"
   ]
  },
  {
   "cell_type": "markdown",
   "id": "specific-looking",
   "metadata": {},
   "source": [
    "Now we evaluate the at the boundries, to get\n",
    "$$\n",
    "{\\color{C3}\n",
    "\\left(\\frac{A^2}{b^2 -2ab + a^2}\\right)\n",
    "%\n",
    "\\left(\n",
    "    b^2\\left[b - a\\right]\n",
    "    -b\\left[b^2 - a^2\\right]\n",
    "    +\\frac{1}{3}\\left[b^3 - a^3\\right]\n",
    "\\right).\n",
    "}\n",
    "$$\n",
    "By collecting like terms to simplify, this can become\n",
    "$$\n",
    "{\\color{C3}\n",
    "\\left(\\frac{A^2}{b^2 -2ab + a^2}\\right)\n",
    "%\n",
    "\\left(    \n",
    "     \\frac{b^3 + 3a^2b-3ab^2 - a^3}{3}\n",
    "\\right).\n",
    "}\n",
    "$$"
   ]
  },
  {
   "cell_type": "markdown",
   "id": "placed-japan",
   "metadata": {},
   "source": [
    "With the help of [wolfram alpha] we can observe\n",
    "$$b^3 + 3a^2b-3ab^2 - a^3 = -(a-b)^3,$$\n",
    "So we can simplify further to get,\n",
    "$$\n",
    "{\\color{C3}\n",
    "\\left(\\frac{A^2}{b^2 -2ab + a^2}\\right)\n",
    "%\n",
    "\\left(    \n",
    "     \\frac{-(a-b)^3}{3}\n",
    "\\right),\n",
    "}\n",
    "$$\n",
    "or equivalently,\n",
    "$$\n",
    "{\\color{C3}\n",
    "\\frac{ A^2(b-a)^3}{3(b-a)^2}\n",
    "},\n",
    "$$\n",
    "and then,\n",
    "$$\n",
    "{\\color{C3}\n",
    "\\frac{1}{3}A^2(a-b)},\n",
    "$$\n",
    "provided we specify that $a-b \\neq 0$.\n",
    "\n",
    "[wolfram alpha]: https://www.wolframalpha.com/input/?i=b%5E3+%2B+3a%5E2b-3ab%5E2+-+a%5E3"
   ]
  },
  {
   "cell_type": "markdown",
   "id": "level-motivation",
   "metadata": {},
   "source": [
    "So combining our two expressions we get\n",
    "$$\n",
    "{\\color{C2}A^2\\frac{a}{3}} +\n",
    "{\\color{C3}\n",
    "\\frac{1}{3}A^2(a-b)} = 1,\n",
    "$$\n",
    "Notice we can take out $\\frac{A^2}{3}$ to get,\n",
    "$$\n",
    "\\frac{1}{3}A^2 (a + a-b) = 1.\n",
    "$$\n",
    "Rearranging, to get an expression in terms of $A$ yeilds,\n",
    "$$\n",
    "\\begin{align}\n",
    "A^2  &= \\frac{3}{(2a-b)} \\\\\n",
    "A &=  \\sqrt{\\frac{3}{(2a-b)}}.\n",
    "\\end{align}\n",
    "$$\n",
    "Where $2a\\neq b$, and $a\\neq b$."
   ]
  },
  {
   "cell_type": "markdown",
   "id": "elect-meditation",
   "metadata": {
    "tags": []
   },
   "source": [
    "### b) Sketch &Psi;(x, 0)"
   ]
  },
  {
   "cell_type": "code",
   "execution_count": 1,
   "id": "built-football",
   "metadata": {
    "jupyter": {
     "source_hidden": true
    },
    "tags": []
   },
   "outputs": [],
   "source": [
    "# sketch the function\n",
    "import matplotlib.pyplot as plt\n",
    "import numpy as np\n",
    "\n",
    "a = 1+np.random.rand()\n",
    "b = a + np.random.rand()\n",
    "\n",
    "A =  np.sqrt(3/(2*a-b))\n",
    "\n",
    "x = np.linspace(0 - (b*.05), b*1.05, 500)\n",
    "\n",
    "psi_0 = np.zeros_like(x)\n",
    "\n",
    "x0 = (x <= a)\n",
    "x1 = (x > a) & (x <= b)\n",
    "xe = (x < 0) | (x > b)\n",
    "\n",
    "psi_0[x0] = A * (x[x0] / a)\n",
    "psi_0[x1] = A * ((b -  x[x1])/ (b-a))\n",
    "psi_0[xe] = 0"
   ]
  },
  {
   "cell_type": "code",
   "execution_count": 3,
   "id": "little-stereo",
   "metadata": {
    "jupyter": {
     "source_hidden": true
    },
    "tags": []
   },
   "outputs": [
    {
     "data": {
      "image/png": "[encoded data removed]",
      "text/plain": [
       "<Figure size 432x288 with 1 Axes>"
      ]
     },
     "metadata": {
      "needs_background": "light"
     },
     "output_type": "display_data"
    }
   ],
   "source": [
    "fig, ax = plt.gcf(), plt.gca()\n",
    "fig.suptitle(r'$\\Psi(x, 0)$', fontsize=20) # Add the text/suptitle to figure\n",
    "ax.plot(x, psi_0);\n",
    "ax.plot(x[x0], psi_0[x0], 'r')\n",
    "ax.plot(x[x1], psi_0[x1], 'b')\n",
    "#plt.plot(x[xe], psi_0[xe], '.5')\n",
    "ax.set_xticks([0, a,b]);\n",
    "ax.set_xticklabels([0, 'a', 'b']);"
   ]
  },
  {
   "cell_type": "markdown",
   "id": "hydraulic-soccer",
   "metadata": {},
   "source": [
    "### c) Where is the particle most likely to be found, at t = 0?\n",
    "\n",
    "Why, the particle is most likely to be found at position $a$, this is the \n",
    "maximum value of $\\Psi$ at $t=0$."
   ]
  },
  {
   "cell_type": "markdown",
   "id": "exceptional-vector",
   "metadata": {},
   "source": [
    "### d) What is the probability of finding the particle to the left of $a$?"
   ]
  },
  {
   "cell_type": "markdown",
   "id": "satellite-omega",
   "metadata": {},
   "source": [
    "### e) What is the epected value of $x$"
   ]
  },
  {
   "cell_type": "code",
   "execution_count": 3,
   "id": "upset-retro",
   "metadata": {},
   "outputs": [
    {
     "data": {
      "text/latex": [
       "$\\displaystyle \\frac{2 \\left(\\frac{a^{2}}{3} + \\frac{- \\frac{a^{3}}{3} - \\frac{a^{2} b}{2} + \\frac{5 b^{3}}{6}}{- a + b}\\right)}{b}$"
      ],
      "text/plain": [
       "2*(a**2/3 + (-a**3/3 - a**2*b/2 + 5*b**3/6)/(-a + b))/b"
      ]
     },
     "execution_count": 3,
     "metadata": {},
     "output_type": "execute_result"
    }
   ],
   "source": [
    "from sympy.abc import a,b\n",
    "from sympy import simplify\n",
    "\n",
    "A = 2/b\n",
    "I_1 = (a**2)/3\n",
    "I_21 = ((b**3) - (b * (a**2))) /2\n",
    "I_22 = ((b**3) - (a**3)) / 3\n",
    "I_2c = 1 / (b-a)\n",
    "equation = (\n",
    "    A * (\n",
    "        I_1 + (I_21 + I_22) * I_2c\n",
    "    )\n",
    ")\n",
    "\n",
    "equation"
   ]
  },
  {
   "cell_type": "code",
   "execution_count": 4,
   "id": "disturbed-stationery",
   "metadata": {},
   "outputs": [
    {
     "data": {
      "text/latex": [
       "$\\displaystyle \\frac{4 a^{2} + 5 a b + 5 b^{2}}{3 b}$"
      ],
      "text/plain": [
       "(4*a**2 + 5*a*b + 5*b**2)/(3*b)"
      ]
     },
     "execution_count": 4,
     "metadata": {},
     "output_type": "execute_result"
    }
   ],
   "source": [
    "simplify(equation)"
   ]
  },
  {
   "cell_type": "markdown",
   "id": "chief-knight",
   "metadata": {},
   "source": [
    "## * Problem 1.5"
   ]
  },
  {
   "cell_type": "markdown",
   "id": "induced-heading",
   "metadata": {},
   "source": [
    "Consider the wave function $$\n",
    "\\Psi(x,t) = Ae^{-\\lambda |x|}e^{-i\\omega t},\n",
    "$$\n",
    "where $A$, $\\lambda$, and $\\omega$ are positive real constants."
   ]
  },
  {
   "cell_type": "markdown",
   "id": "developed-result",
   "metadata": {},
   "source": [
    "### a) Normalise &Psi;"
   ]
  },
  {
   "cell_type": "markdown",
   "id": "welsh-joseph",
   "metadata": {},
   "source": [
    "To determine $A$ we need to find an expression for the total\n",
    "area under $|\\Psi(x,0)|^2$, which we know is defined to be 1.\n",
    "While $\\Psi$ is a complex function, $|\\Psi|^2 = \\Psi^*\\Psi$,\n",
    "(where $\\Psi^*$ is the complex conjugate of $\\Psi$) is real,\n",
    "and non-negative.\n",
    "\n",
    "To begin, $$\n",
    "\\int\\limits_{-\\infty}^{+\\infty}{|\\Psi(x,t)|^2}dx = \n",
    "1.\n",
    "$$"
   ]
  },
  {
   "cell_type": "markdown",
   "id": "russian-regulation",
   "metadata": {},
   "source": [
    "Procede by expanding,$|\\Psi|^2 = \\Psi^*\\Psi$, to get $$\n",
    "\\begin{align}\n",
    "\\Psi^*\\Psi &= Ae^{-\\lambda |x|}e^{-i\\omega t} \\cdot Ae^{-\\lambda |x|}e^{i\\omega t}\\\\\n",
    "&= A^2 e^{-2\\lambda 2|x|- 2\\omega 2t}\\\\\n",
    "\\end{align}\n",
    "$$"
   ]
  },
  {
   "cell_type": "markdown",
   "id": "young-whale",
   "metadata": {},
   "source": [
    "Now, let's try to simplify. We are taking the integral with respect to $x$,\n",
    "so we can treat $t$ as a constant. If we let $\\mu = \\frac{\\omega t}{\\lambda}$,\n",
    "we can rewrite the above expression as, \n",
    "$$A^2 e^{\\lambda^2 x^2 - \\lambda^2 \\mu^2}.$$\n",
    "This in turn can become, \n",
    "$$A^2 e^{\\lambda^2(x - \\mu)^2},$$\n",
    "an expression that is very familiar in light of the previous excercises."
   ]
  },
  {
   "cell_type": "markdown",
   "id": "restricted-camcorder",
   "metadata": {},
   "source": [
    "Now, we can consider the probability density function. So returning to our integral, we can write,\n",
    "$$\n",
    "\\int\\limits_{-\\infty}^{+\\infty}{A^2e^{\\lambda^2(x - \\mu)^2}}dx = 1.\n",
    "$$"
   ]
  },
  {
   "cell_type": "markdown",
   "id": "digital-algeria",
   "metadata": {},
   "source": [
    "So now we have the Gaussian Integral again. \n",
    "Hence, $$\n",
    "A^2 \\int\\limits_{-\\infty}^{+\\infty}{e^{\\lambda^2(x - \\mu)^2}}dx =1 \\implies A^2 \\sqrt{\\frac{\\pi}{\\lambda^2}} = 1\\\\\n",
    "A^2  = \\sqrt{\\frac{\\lambda^2}{\\pi}}\\\\\n",
    "A = \\sqrt[^4]{\\frac{\\lambda^2}{\\pi}}\\\\\n",
    "A = \\sqrt{\\frac{\\lambda}{\\sqrt{\\pi}}}\\\\\n",
    "$$"
   ]
  },
  {
   "cell_type": "markdown",
   "id": "parental-ownership",
   "metadata": {},
   "source": [
    "-------\n",
    "\n",
    "### b) Determine expectation values of $x$ and $x^2$\n",
    "\n",
    "1. $$<x> = \\frac{\\omega t}{\\lambda}.$$"
   ]
  },
  {
   "cell_type": "markdown",
   "id": "rational-dialogue",
   "metadata": {},
   "source": [
    "So let's start with determining the expectation value of $x$.\n",
    "This is defined as \n",
    "$$\n",
    "<x> = \\int\\limits_{-\\infty}^{+\\infty} {x |\\Psi(x,t)|^2} dx.\n",
    "$$"
   ]
  },
  {
   "cell_type": "markdown",
   "id": "declared-lewis",
   "metadata": {},
   "source": [
    "We can just go ahead and plug in the equation we derived for $|\\Psi|^2$ above \n",
    "(keep in mind the substitution we made to simplify). So we have \n",
    "$$\n",
    "<x> = \\int\\limits_{-\\infty}^{+\\infty} {x A^2e^{\\lambda^2(x - \\mu)^2}}dx.\n",
    "$$"
   ]
  },
  {
   "cell_type": "markdown",
   "id": "wrong-teaching",
   "metadata": {},
   "source": [
    "So, lets pull $A^2$ out of the integral, and notice that this becomes *very* similar \n",
    "to the equation of a few problems back. That one we solved by substition, so again,\n",
    "let $y = x-\\mu$. That makes $x = y+\\mu$, and $dy = dx$ (because $dx/dy = 1$). So we \n",
    "can write,\n",
    "$$\n",
    "<x> = A^2\\int\\limits_{-\\infty}^{+\\infty} {(y+\\mu) e^{\\lambda^2y^2}}dy.\n",
    "$$"
   ]
  },
  {
   "cell_type": "markdown",
   "id": "sporting-grenada",
   "metadata": {},
   "source": [
    "Now we can expand $y + \\mu$ to get two integrals,\n",
    "$$\n",
    "\\int\\limits_{-\\infty}^{+\\infty} {(y+\\mu) e^{\\lambda^2y^2}}dy = \\\\\n",
    "\\int\\limits_{-\\infty}^{+\\infty} {y e^{\\lambda^2y^2}}dy +  \\mu \\int\\limits_{-\\infty}^{+\\infty} { e^{\\lambda^2y^2}}dy\n",
    "$$"
   ]
  },
  {
   "cell_type": "markdown",
   "id": "suited-bermuda",
   "metadata": {},
   "source": [
    "The integral on the left is an odd function. At the limits it goes to 0, \n",
    "and is otherwise symetric, so in total sums to 0. On the right we have\n",
    "the Gaussian Integral again. So all up we get\n",
    "$$\n",
    "\\mu \\sqrt{\\frac{\\pi}{\\lambda^2}},\n",
    "$$\n",
    "from the integral portion, and all together we have \n",
    "$$ \n",
    "\\begin{align}\n",
    "<x> &= A^2 \\mu \\sqrt{\\frac{\\pi}{\\lambda^2}}\\\\[6pt]\n",
    "&=\\sqrt{\\frac{\\lambda^2}{\\pi}} \\mu \\sqrt{\\frac{\\pi}{\\lambda^2}}\\\\\n",
    "&=\\mu.\n",
    "\\end{align}\n",
    "$$"
   ]
  },
  {
   "cell_type": "markdown",
   "id": "dominican-tablet",
   "metadata": {},
   "source": [
    "So for completness, recall we set $\\mu = \\frac{\\omega t}{\\lambda}$, so \n",
    "$$<x> = \\frac{\\omega t}{\\lambda}.$$"
   ]
  },
  {
   "cell_type": "markdown",
   "id": "realistic-provincial",
   "metadata": {},
   "source": [
    "Now for $<x^2>$ we begin in a similar fashion, \n",
    "$$<x^2> = \\int\\limits_{-\\infty}^{+\\infty} {x^2 A^2e^{\\lambda^2(x - \\mu)^2}}dx.$$"
   ]
  },
  {
   "cell_type": "markdown",
   "id": "copyrighted-assist",
   "metadata": {},
   "source": [
    "Again we simplify our integral, bringing out $A^2$ and proceding with a subsititution, \n",
    "in fact the same one. So we let $y = x-\\mu$, and now $x^2$ becomes $(y+\\mu)^2$.\n",
    "This expands to $y^2 + 2\\mu y + \\mu^2$. Thus we are dealing\n",
    "with three integrals (one for each term of the polynomial).\n",
    "So, cutting to the chase our three integrals are,\n",
    "$$\n",
    "\\begin{align}\n",
    "I_{y^2} &= \\int\\limits_{-\\infty}^{+\\infty} {y^2 e^{\\lambda^2y^2}}dy\\\\\n",
    "I_{2\\mu y}&= 2\\mu \\int\\limits_{-\\infty}^{+\\infty} {y e^{\\lambda^2y^2}}dy &&= 0\\\\\n",
    "I_{\\mu^2} &= \\mu^2 \\int\\limits_{-\\infty}^{+\\infty} {e^{\\lambda^2y^2}}dy &&= \\mu^2 \\sqrt{\\frac{\\pi}{\\lambda^2}}.\n",
    "\\end{align}\n",
    "$$\n"
   ]
  },
  {
   "cell_type": "markdown",
   "id": "enclosed-hacker",
   "metadata": {},
   "source": [
    "The last two integrals we have already solved in the previous example.\n",
    "Likewise, the first integral is by now familiar. To solve it we use the\n",
    "integration by parts pattern,\n",
    "$$\\int{UdV} = UV - \\int{VdU}.$$\n",
    "We know how to differentiate an exponential, so we let \n",
    "$$V = e^{\\lambda^2 y^2},$$\n",
    "then, by the chain rule we get, \n",
    "$$dV = 2\\lambda^2 y e^{\\lambda^2 y^2}.$$\n",
    "Plugging $dV$ back into our integral, we see that we need\n",
    "$$U = \\frac{y}{2\\lambda^2},$$ and so we must also have\n",
    "$$dU = \\frac{1}{2\\lambda^2}.$$"
   ]
  },
  {
   "cell_type": "code",
   "execution_count": null,
   "id": "residential-founder",
   "metadata": {},
   "outputs": [],
   "source": []
  }
 ],
 "metadata": {
  "hide_input": false,
  "kernelspec": {
   "display_name": "Python 3",
   "language": "python",
   "name": "python3"
  },
  "language_info": {
   "codemirror_mode": {
    "name": "ipython",
    "version": 3
   },
   "file_extension": ".py",
   "mimetype": "text/x-python",
   "name": "python",
   "nbconvert_exporter": "python",
   "pygments_lexer": "ipython3",
   "version": "3.9.2"
  },
  "toc": {
   "base_numbering": 1,
   "nav_menu": {},
   "number_sections": true,
   "sideBar": true,
   "skip_h1_title": false,
   "title_cell": "Table of Contents",
   "title_sidebar": "Contents",
   "toc_cell": false,
   "toc_position": {},
   "toc_section_display": true,
   "toc_window_display": true
  }
 },
 "nbformat": 4,
 "nbformat_minor": 5
}
