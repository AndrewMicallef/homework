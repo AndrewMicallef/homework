{
 "cells": [
  {
   "cell_type": "markdown",
   "id": "micro-procurement",
   "metadata": {},
   "source": [
    "# 1 The Wave Function"
   ]
  },
  {
   "cell_type": "markdown",
   "id": "settled-england",
   "metadata": {
    "tags": []
   },
   "source": [
    "## 1.3 Probability"
   ]
  },
  {
   "cell_type": "markdown",
   "id": "geographic-detective",
   "metadata": {
    "tags": []
   },
   "source": [
    "### * Problem 1.1\n",
    "\n",
    "For the distribution of ages in the following data set:\n",
    "\n",
    "j   | N(j)\n",
    "--- | -----\n",
    "14 | 1\n",
    "15 | 1\n",
    "16 | 3\n",
    "22 | 2\n",
    "24 | 2\n",
    "25 | 5\n",
    "\n",
    "\n",
    "1. Compute $<j^2>$ and $<j>^2$.\n",
    "2. Determine $\\Delta j$ for each $j$, and use Equation 1.11 to compute standard deviation\n",
    "3. Use your results in (1) and (2) to check Equation 1.12."
   ]
  },
  {
   "cell_type": "markdown",
   "id": "social-webcam",
   "metadata": {},
   "source": [
    "**Compute $<j^2>$ and $<j>^2$.**"
   ]
  },
  {
   "cell_type": "code",
   "execution_count": 1,
   "id": "current-gravity",
   "metadata": {
    "hide_input": false,
    "jupyter": {
     "source_hidden": true
    },
    "tags": []
   },
   "outputs": [],
   "source": [
    "# 1.1.a\n",
    "import numpy as np\n",
    "\n",
    "data = { 14:1,\n",
    "         15:1,\n",
    "         16:3,\n",
    "         22:2,\n",
    "         24:2,\n",
    "         25:5\n",
    "}\n",
    "\n",
    "N = sum(data.values())"
   ]
  },
  {
   "cell_type": "code",
   "execution_count": 2,
   "id": "banned-freeze",
   "metadata": {
    "hide_input": false,
    "tags": []
   },
   "outputs": [
    {
     "data": {
      "text/plain": [
       "6434"
      ]
     },
     "execution_count": 2,
     "metadata": {},
     "output_type": "execute_result"
    }
   ],
   "source": [
    "j2 = [(j**2) * Nj for j, Nj in data.items()]\n",
    "j = [j * Nj for j, Nj in data.items()]\n",
    "mean_j2 = sum(j2) / N\n",
    "mean_j = sum(j) / N\n",
    "sum(j2)"
   ]
  },
  {
   "cell_type": "code",
   "execution_count": 3,
   "id": "ceramic-emerald",
   "metadata": {
    "hide_input": false,
    "jupyter": {
     "source_hidden": true
    },
    "tags": []
   },
   "outputs": [
    {
     "data": {
      "text/plain": [
       "(459.57142857142856, 441.0)"
      ]
     },
     "execution_count": 3,
     "metadata": {},
     "output_type": "execute_result"
    }
   ],
   "source": [
    "mean_j2, mean_j**2"
   ]
  },
  {
   "cell_type": "markdown",
   "id": "sapphire-bishop",
   "metadata": {},
   "source": [
    "a) \n",
    "   $$\n",
    "   \\begin{align}\n",
    "   <j^2>&=\\sum_{j=0}^{\\infty}{j^2P(j)}\\\\\n",
    "   &= \\frac{14^2 + 15^2 + 3(16^2) + 2(22^2) + 2(24^2) + 5(25^2)}{14} \\\\\n",
    "   &= \\frac{6434}{14}\\\\\n",
    "   & \\approx  459.6\\\\\n",
    "   \\\\\n",
    "   \\\\\n",
    "   <j>^2&=\\sum_{j=0}^{\\infty}{jP(j)}^2\\\\\n",
    "   &= (\\frac{14 + 15 + 3(16) + 2(22) + 2(24) + 5(25)}{14})^2 \\\\\n",
    "   &= (\\frac{294}{14})^2\\\\\n",
    "   &= 21^2\n",
    "   &= 441\n",
    "   \\end{align}\n",
    "   $$"
   ]
  },
  {
   "cell_type": "markdown",
   "id": "nominated-division",
   "metadata": {},
   "source": [
    "**2. Determine $\\Delta j$ for each $j$, and use Equation 1.11 to compute standard deviation**"
   ]
  },
  {
   "cell_type": "code",
   "execution_count": 4,
   "id": "desperate-brook",
   "metadata": {
    "ExecuteTime": {
     "end_time": "2021-03-26T20:55:37.587899Z",
     "start_time": "2021-03-26T20:55:36.284371Z"
    },
    "hide_input": true,
    "jupyter": {
     "source_hidden": true
    },
    "tags": []
   },
   "outputs": [
    {
     "name": "stdout",
     "output_type": "stream",
     "text": [
      "delta j: -7, -6, -5, 1, 3, 4\n",
      "(delta j)^2: 49, 36, 25, 1, 9, 16\n",
      "sum(delta j)^2 * N_j: 260\n",
      "std: 18.57\n"
     ]
    }
   ],
   "source": [
    "deltaj = [int(j - mean_j) for j, Nj in data.items()]\n",
    "print(\"delta j: \", end='')\n",
    "print(*deltaj, sep =', ')\n",
    "\n",
    "djsqr = [int((j - mean_j)**2) for j, Nj in data.items()]\n",
    "\n",
    "print(\"(delta j)^2: \", end='')\n",
    "print(*djsqr, sep =', ')\n",
    "\n",
    "djsqN = [((j - mean_j)**2)*Nj for j, Nj in data.items()]\n",
    "\n",
    "sum_djsqN = sum(djsqN)\n",
    "print(\"sum(delta j)^2 * N_j: \", end='')\n",
    "print(int(sum_djsqN))\n",
    "\n",
    "std = sum_djsqN / N\n",
    "print(\"std:\", round(std, 2))"
   ]
  },
  {
   "cell_type": "markdown",
   "id": "orange-safety",
   "metadata": {},
   "source": [
    "j | &Delta;j | N(j)\n",
    "--:|--:|--\n",
    "14 | -7  | 1\n",
    "15 | -6  | 1\n",
    "16 | -5  | 3\n",
    "22 | 1   | 2\n",
    "24 | 3   | 2\n",
    "25 | 4   | 5\n",
    "\n",
    "*Equation 1.11:*\n",
    "$$\n",
    "\\sigma ^2 \\equiv <(\\Delta j)^2>\n",
    "$$\n",
    "\n",
    "From the above equation, $\\sigma^2$ is computed below:\n",
    "\n",
    "$$\n",
    "\\begin{align}\n",
    "\\sigma^2 &= \\frac{(-7^2) + (-6^2) +3(-5^2) + 2(1^2) + 2(3^2) + 5(4^2)}{14}\\\\\n",
    "&= \\frac{(49) + (36) +3(25) + 2(1) + 2(9) + 5(16)}{14}\\\\\n",
    "&= \\frac{260}{14}\\\\\n",
    "& \\approx 18.57\n",
    "\\end{align}\n",
    "$$"
   ]
  },
  {
   "cell_type": "markdown",
   "id": "continued-divorce",
   "metadata": {},
   "source": [
    "*Equation 1.12:*\n",
    "$$\n",
    "\\sigma = \\sqrt{<j^2> - <j>^2}\n",
    "$$\n",
    "\n",
    "From the above results, we have $$\\sigma^2 \\approx 18.57,$$ so \n",
    "$$\n",
    "\\begin{align}\n",
    "\\sigma &\\approx \\sqrt{18.57}\\\\\n",
    "&\\approx 4.30.\n",
    "\\end{align}\n",
    "$$\n",
    "And \n",
    "$$\n",
    "<j^2> \\approx 459.57,\n",
    "$$\n",
    "while\n",
    "$$\n",
    "<j>^2 = 441.\n",
    "$$\n",
    "\n",
    "Thus \n",
    "$$\n",
    "\\begin{align}\n",
    "<j^2> - <j>^2 &\\approx 459.57 - 441\\\\\n",
    "&\\approx 18.57.\n",
    "\\end{align}\n",
    "$$\n",
    "\n",
    "So,\n",
    "$$\n",
    "\\begin{align}\n",
    "\\sigma &= \\sqrt{<j^2> - <j>^2}\\\\\n",
    "&\\approx \\sqrt{18.57}\\\\\n",
    "\\sigma ^2 &\\approx 18.57\n",
    "\\end{align}\n",
    "$$"
   ]
  },
  {
   "cell_type": "markdown",
   "id": "hollow-subdivision",
   "metadata": {
    "tags": [],
    "toc-hr-collapsed": true
   },
   "source": [
    "### Problem 1.2\n",
    "\n",
    "#### a) Find the standard deviation of the distribution in Example 1.2"
   ]
  },
  {
   "cell_type": "markdown",
   "id": "parallel-chemistry",
   "metadata": {},
   "source": [
    "---\n",
    "> ##### **Example 1.2**\n",
    "> \n",
    "> Suppose someone drops a rock off a cliff of height $h$. As it falls, I snap a million photographs, at random intervals. On each picture I measure the distance the rock has fallen.\n",
    ">\n",
    "> *Question:* What is the *average* of all these distances? That is to say, what is the *time average*\n",
    "> of the distance traveled?\n",
    "> \n",
    ">**Solution:** The rock starts out at rest, and picks up speed as it falls; it spends more time near\n",
    "> the top, so the average distance will surely be less than $h/2$. Ignoring air resistance, the\n",
    "> distance $x$ at time $t$ is\n",
    "> $$x(t) = \\frac{1}{2}gt^2.$$\n",
    "> The velocity is $dx/dt = gt$ , and the total ﬂight time is $T =\\sqrt{2h/g}$. The probability that\n",
    "> a particular photograph was taken between $t$ and $t + dt$ is $dt/T$ , so the probability that it\n",
    "> shows a distance in the corresponding range $x$ to $x + dx$ is\n",
    "> \n",
    "> Thus the probability *density* (Equation 1.14) is\n",
    "> $$\\rho(x) = \\frac{1}{2\\sqrt{hx}}, (0 \\leq x \\leq h)$$\n",
    "> (outside this range, of course, the probability density is zero).\n",
    "> We can check this result, using Equation 1.16:\n",
    "$$\\int_0^h{\\frac{1}{2\\sqrt{hx}}}dx = \\frac{1}{2\\sqrt{h}}(2x^{1/2})\\Big|_0^h=1.$$\n",
    "The *average* distance (Equation 1.17) is\n",
    "$$\n",
    "<x> = \\int_0^h{x\\frac{1}{2\\sqrt{hx}}}dx = \\frac{1}{2\\sqrt{h}}(\\frac{2}{3}x^{3/2})\\Big|_0^h=\\frac{h}{3}\n",
    ",\n",
    "$$\n",
    "which is somewhat *less* than $h/2$, as anticipated"
   ]
  },
  {
   "cell_type": "markdown",
   "id": "removed-wright",
   "metadata": {},
   "source": [
    "From Equation 1.19 (Griffiths $\\S1p12$) the standard deviation of a continuos function is similar to that of a discrete sample.\n",
    "$$\\sigma^2 \\equiv <(\\Delta{}x)^2> = <x^2> - <x>^2.$$\n",
    "We also can see from Equation 1.18 (on the same page) that \n",
    "$$<f(x)> = \\int_{-\\infty}^{+\\infty}{f(x)\\rho(x)dx}.$$\n",
    "We know $\\rho(x)$ from the worked example above. Thus we can write\n",
    "$$<x^2> = \\int_0^h x^2 \\frac{1}{2\\sqrt{hx}}dx.$$"
   ]
  },
  {
   "cell_type": "markdown",
   "id": "small-luxembourg",
   "metadata": {
    "ExecuteTime": {
     "end_time": "2021-03-25T09:32:24.574561Z",
     "start_time": "2021-03-25T09:32:24.104373Z"
    }
   },
   "source": [
    "proceding to solve (with a lot of help from [wolfram alpha](https://www.wolframalpha.com/input/?i=%5Cint_0%5Eh+x%5E2+%5Cfrac%7B1%7D%7B2%5Csqrt%7Bhx%7D%7Ddx) and \n",
    "[sympy gamma](https://gamma.sympy.org/input/?i=integrate%28x**2%2F%282%28hx%29**0.5%29%2C+%28x%2C0%2Ch%29%29))\n",
    "\n",
    "$$\n",
    "\\begin{align}\n",
    "<x^2> &= \\int_0^h x^2 \\frac{1}{2\\sqrt{hx}}dx\\\\\n",
    "\\end{align}\n",
    "$$\n",
    "\n",
    "The integral of $x^n$ is $\\frac{x^{n+1}}{n+1}$ when $n \\neq −1$:\n",
    "$$\n",
    "\\int x^{\\frac{3}{2}} dx = \\frac{x^{\\frac{5}{2}}}{\\frac{5}{2}} = \\frac{2x^{\\frac{5}{2}}}{5}\n",
    "$$\n",
    "so\n",
    "$$\n",
    "\\begin{align}\n",
    "&= \\frac{1}{2\\sqrt{h}} \\cdot \\frac{2x^{\\frac{5}{2}}}{5} \\big|_0^h\\\\\n",
    "&= \\frac{1}{2\\sqrt{h}} \\cdot \\frac{2h^{\\frac{5}{2}}}{5} - \\frac{1}{2\\sqrt{h}} \\cdot \\frac{2\\times0^{\\frac{5}{2}}}{5}\\\\\n",
    "&= \\frac{1}{2\\sqrt{h}} \\cdot \\frac{2h^{\\frac{5}{2}}}{5}\\\\\n",
    "&= \\frac{1}{2\\sqrt{h}} \\cdot \\frac{2h^{\\frac{5}{2}}}{5}\\\\\n",
    "<x^2> &= \\frac{h^{2}}{5}\n",
    "\\end{align}\n",
    "$$\n"
   ]
  },
  {
   "cell_type": "markdown",
   "id": "active-purpose",
   "metadata": {},
   "source": [
    "Thus we can find $\\sigma^2$ from the relationship\n",
    "$$\\sigma^2 = <x^2> - <x>^2.$$\n",
    "We know both of the terms on the left side,\n",
    "$$<x^2> = \\frac{h^2}{5}, \\text{and} <x> = \\frac{h}{3}.$$\n",
    "$$\n",
    "\\begin{align}\n",
    "\\sigma^2 &= \\frac{h^2}{5} - \\frac{h}{3}^2\\\\\n",
    "&= \\frac{h^2}{5} - \\frac{h^2}{9}\\\\\n",
    "&= \\frac{9h^2}{45} - \\frac{5h^2}{45}\\\\\n",
    "\\sigma^2 &= \\frac{4h^2}{45}\n",
    "\\end{align}\n",
    "$$"
   ]
  },
  {
   "cell_type": "markdown",
   "id": "silent-genius",
   "metadata": {},
   "source": [
    "#### b) Determine the probability that a random instance is a distance of $x$ more than one standard deviation from the average"
   ]
  },
  {
   "cell_type": "markdown",
   "id": "absolute-yesterday",
   "metadata": {},
   "source": [
    "The probability that $x$ is between $a$ and $b$ is given by the integral\n",
    "$$P_{ab} = \\int_a^b{\\rho{(x)}dx}.$$\n",
    "Previously, $\\rho(x)$ was determined to be \n",
    "$$\\frac{1}{2\\sqrt{hx}},\\space (0 \\leq x \\leq h).$$\n",
    "So the probability of observing a distance of $x > \\sigma^2 $ is\n",
    "$$\n",
    "\\begin{align}\n",
    "P_{\\sigma^2+\\infty} &= \\int_{\\sigma^2}^{+\\infty}{\\rho{(x)}dx}\\\\\n",
    "&= \\int_{\\sigma^2}^{+\\infty} \\frac{1}{2\\sqrt{hx}}dx\n",
    "\\end{align}\n",
    "$$\n"
   ]
  },
  {
   "cell_type": "markdown",
   "id": "boxed-implement",
   "metadata": {},
   "source": [
    "We can take the constant term $\\frac{1}{2\\sqrt{h}}$ outside of the integral to get\n",
    "$$\\frac{1}{2\\sqrt{h}} \\int_{\\sigma^2}^{+\\infty} \\frac{1}{\\sqrt{x}} dx.$$\n",
    "\n",
    "Using an [integral table](http://integral-table.com/) we can solve to get\n",
    "\n"
   ]
  },
  {
   "cell_type": "markdown",
   "id": "widespread-canada",
   "metadata": {},
   "source": [
    "$$\\begin{align}\n",
    "\\int \\frac{1}{\\sqrt{x}} dx &= \\int x^{-1/2} \\\\\n",
    "&= \\frac{1}{1-\\frac{1}{2}}x^{1-1/2}\\\\\n",
    "&=2 \\sqrt{x}\n",
    "\\end{align}\n",
    "$$"
   ]
  },
  {
   "cell_type": "markdown",
   "id": "great-celtic",
   "metadata": {},
   "source": [
    "Because $\\rho(x)$ is defined from $0$ to $h$ (the hieght of the cliff from which the boulder falls) we can replace $+\\infty$ with $h$. $\\rho(x) =  0$  for values of $x$ greater than $h$ or less than $0$."
   ]
  },
  {
   "cell_type": "markdown",
   "id": "finnish-physics",
   "metadata": {},
   "source": [
    "$$\n",
    "P_{\\sigma^2h} = \\frac{1}{2\\sqrt{h}}\\space 2 \\sqrt{x}\\space \\Big|_{\\sigma^2}^h\\\\\n",
    "= \\frac{1}{\\sqrt{h}}\\space (\\sqrt{x})\\space \\Big|_{\\sigma^2}^h.\n",
    "$$"
   ]
  },
  {
   "cell_type": "markdown",
   "id": "chubby-calgary",
   "metadata": {},
   "source": [
    "We previously determined $\\sigma^2 = \\frac{4h^2}{45}$, so we can plug this in and evaluate\n",
    "\n",
    "$$\n",
    " \\frac{1}{\\sqrt{h}}\\space (\\sqrt{h} -\\sqrt{ \\frac{4h^2}{45}})\n",
    "$$"
   ]
  },
  {
   "cell_type": "markdown",
   "id": "respected-injection",
   "metadata": {},
   "source": [
    "$$\n",
    " 1 -\\sqrt{ \\frac{4h}{45}}\n",
    "$$"
   ]
  },
  {
   "cell_type": "markdown",
   "id": "breeding-transaction",
   "metadata": {
    "toc-hr-collapsed": true
   },
   "source": [
    "### * Problem 1.3\n",
    "\n",
    "Consider the **gaussian** distribution \n",
    "$$\n",
    "\\rho(x) = Ae^{-\\lambda(x-a)^2},\n",
    "$$\n",
    "\n",
    "where $A$, $a$, and $\\lambda$ are positive real constants.\n",
    "\n"
   ]
  },
  {
   "cell_type": "markdown",
   "id": "induced-information",
   "metadata": {},
   "source": [
    "#### a) Determine A\n",
    "\n",
    "Use the equation $$\\int_{-\\infty}^{+\\infty}{\\rho(x)}dx = 1.$$\n"
   ]
  },
  {
   "cell_type": "markdown",
   "id": "foreign-drain",
   "metadata": {},
   "source": [
    "$$\\int_{-\\infty}^{+\\infty}{Ae^{-\\lambda(x-a)^2}}dx = 1$$\n"
   ]
  },
  {
   "cell_type": "markdown",
   "id": "global-literature",
   "metadata": {},
   "source": [
    "So the above equation is a general [Gaussian Integral](https://en.wikipedia.org/wiki/Gaussian_integral), \n",
    "which is actually not trivial to solve. \n",
    "Fortunatly Wikipedia is our friend, and so we have the definite integral \n",
    "of an arbitrary Gausian function is: $$\n",
    "\\int_{-\\infty}^{+\\infty}{e^{-a(x+b)^2}}dx = \\sqrt{\\frac{\\pi}{a}}.\n",
    "$$"
   ]
  },
  {
   "cell_type": "markdown",
   "id": "protected-fraud",
   "metadata": {},
   "source": [
    "Into which we can plug in our variables and get\n",
    "$$\n",
    "\\int_{-\\infty}^{+\\infty}{e^{-\\lambda(x-a)^2}}dx = \\sqrt{\\frac{\\pi}{\\lambda}}.\n",
    "$$\n"
   ]
  },
  {
   "cell_type": "markdown",
   "id": "opposed-trash",
   "metadata": {},
   "source": [
    "Now to solve for $A$ we return to the original integral, \n",
    "$$\n",
    "\\begin{align}\n",
    "& \\int_{-\\infty}^{+\\infty}{Ae^{-\\lambda(x-a)^2}}dx = 1\\\\\n",
    "&\\equiv A\\int_{-\\infty}^{+\\infty}{e^{-\\lambda(x-a)^2}}dx = 1\\\\\n",
    "&\\equiv A \\sqrt{\\frac{\\pi}{\\lambda}} = 1\\\\\n",
    "& A = \\Big(\\sqrt{\\frac{\\pi}{\\lambda}}\\Big)^{-1}\\\\\n",
    "& A = \\sqrt{\\frac{\\lambda}{\\pi}}\n",
    "\\end{align}\n",
    "$$"
   ]
  },
  {
   "cell_type": "markdown",
   "id": "greenhouse-michigan",
   "metadata": {},
   "source": [
    "#### b) Find < x >, <x<sup>2</sup>>, and &sigma;"
   ]
  },
  {
   "cell_type": "code",
   "execution_count": 2,
   "id": "confused-iceland",
   "metadata": {
    "ExecuteTime": {
     "end_time": "2021-03-27T23:03:18.259562Z",
     "start_time": "2021-03-27T23:03:18.174917Z"
    },
    "hide_input": true,
    "tags": []
   },
   "outputs": [],
   "source": [
    "%load_ext itikz"
   ]
  },
  {
   "cell_type": "markdown",
   "id": "planned-baseline",
   "metadata": {},
   "source": [
    "We know $$\\sigma^2 = <x^2> - <x>^2,$$\n",
    "So $$\\sigma = \\sqrt{<x^2> - <x>^2}.$$\n",
    "We found $$<x> = a,$$ while\n",
    "$$<x^2> = \\frac{2}{\\lambda} + a^2.$$\n",
    "\n",
    "Thus $$\n",
    "\\begin{align}\n",
    "\\sigma^2 &= \\frac{2}{\\lambda} + a^2 - a^2\\\\[6pt]\n",
    "&= \\frac{2}{\\lambda}\n",
    "\\end{align}\n",
    "$$"
   ]
  },
  {
   "cell_type": "markdown",
   "id": "numeric-bouquet",
   "metadata": {},
   "source": [
    "In the sections below I walk through the steps for finding $<x>$ and $<x^2>$ respectivley. \n",
    "These solutions came through a lot of help over on [math.se], in particular thanks to \n",
    "[`@robjohn`] and [`@ted-shifrin`].\n",
    "\n",
    "\n",
    "[`@ted-shifrin`]: https://math.stackexchange.com/users/71348/ted-shifrin\n",
    "[`@robjohn`]: https://math.stackexchange.com/users/13854/robjohn\n",
    "[math.se]: https://math.stackexchange.com/"
   ]
  },
  {
   "cell_type": "markdown",
   "id": "distinguished-compilation",
   "metadata": {
    "tags": []
   },
   "source": [
    "##### **Evaluate < x >**\n",
    "\n",
    "$$<x> = a$$\n",
    "\n",
    "**Working:**  \n",
    "To start lets consider finding $<x>$. We have the equation $$\n",
    "<x> =  \\int_{-\\infty}^{+\\infty}{x\\rho(x)}dx.\n",
    "$$\n",
    "\n",
    "Where, $$\\rho(x) = Ae^{-\\lambda(x-a)^2}.$$\n",
    "Thus $$\n",
    "<x> = \\int_{-\\infty}^{+\\infty}{x Ae^{-\\lambda(x-a)^2}}dx\n",
    "$$\n",
    "\n",
    "We have established above the value of $A$, which is a constant. It can be pulled outside of the integral. $$\n",
    "<x> = A \\int_{-\\infty}^{+\\infty}{x e^{-\\lambda(x-a)^2}}dx.\n",
    "$$\n",
    "\n",
    "To procede, consider the substitution $u = x-a$. $\\frac{du}{dx} = 1$, so $dx = du$. Additionally, $x = u + a$.\n",
    "Consequently we can write $$\n",
    "<x> = A\\int_{x=-\\infty}^{x=+\\infty}{(u+a) e^{-\\lambda(u)^2}}du.\n",
    "$$\n",
    "\n",
    "*Strictly speaking the limits of integration when put in terms of $u$ would still be $(-\\infty :+\\infty)$.*\n",
    "\n",
    "We can now expand around $(u+a)$ to get $$\n",
    "<x> =  A\\Big[\\ \\underbrace{\\int{u e^{-\\lambda(u)^2}}du}_{I_1}\n",
    "    + \\underbrace{\\int{a e^{-\\lambda(u)^2}}du}_{I_2}\\ \\Big].\n",
    "$$\n",
    "*(Note these still represent definite integrals with limits of integration $(-\\infty :+\\infty)$, I have simply ommited them to keep the equations clean.)*\n",
    "\n",
    "On the left we have $I_2$ which is really just a gaussian integral again.\n",
    "Replacing $u$ we have, $$\n",
    "I_2 = a \\int_{-\\infty}^{+\\infty}{e^{\\lambda(x-a)^2}}dx.$$\n",
    "\n",
    "We looked up [Gaussian integrals] for the previous part of the problem, \n",
    "so can use the formula here again.\n",
    "So $$\n",
    "I_2 = a \\Big(\\sqrt{\\frac{\\pi}{\\lambda}}\\Big).$$\n",
    "\n",
    "On the other hand $I_1$ is a little tricker to evaluate. However if we look at the graph of $u e^{-\\lambda(u)^2}$ we see that it is [symetric around the origin].\n",
    "\n",
    "[Gaussian integrals]: (https://en.wikipedia.org/wiki/Gaussian_integral)\n",
    "[symetric around the origin]: https://tutorial.math.lamar.edu/classes/alg/symmetry.aspx"
   ]
  },
  {
   "cell_type": "code",
   "execution_count": 6,
   "id": "engaged-arlington",
   "metadata": {
    "jupyter": {
     "source_hidden": true
    },
    "tags": []
   },
   "outputs": [
    {
     "data": {
      "image/svg+xml": [
       "<svg xmlns=\"http://www.w3.org/2000/svg\" xmlns:xlink=\"http://www.w3.org/1999/xlink\" width=\"297.216pt\" height=\"184.752pt\" viewBox=\"0 0 297.216 184.752\" version=\"1.1\">\n",
       "<defs>\n",
       "<g>\n",
       "<symbol overflow=\"visible\" id=\"glyph0-0\">\n",
       "<path style=\"stroke:none;\" d=\"\"/>\n",
       "</symbol>\n",
       "<symbol overflow=\"visible\" id=\"glyph0-1\">\n",
       "<path style=\"stroke:none;\" d=\"M 4.984375 -4.515625 C 5.078125 -4.90625 5.421875 -6.28125 6.46875 -6.28125 C 6.546875 -6.28125 6.90625 -6.28125 7.21875 -6.078125 C 6.796875 -6 6.5 -5.625 6.5 -5.265625 C 6.5 -5.03125 6.65625 -4.75 7.0625 -4.75 C 7.390625 -4.75 7.875 -5.015625 7.875 -5.609375 C 7.875 -6.390625 6.984375 -6.609375 6.484375 -6.609375 C 5.609375 -6.609375 5.09375 -5.8125 4.921875 -5.46875 C 4.546875 -6.453125 3.734375 -6.609375 3.296875 -6.609375 C 1.75 -6.609375 0.890625 -4.671875 0.890625 -4.296875 C 0.890625 -4.15625 1.046875 -4.15625 1.078125 -4.15625 C 1.1875 -4.15625 1.234375 -4.1875 1.265625 -4.3125 C 1.78125 -5.90625 2.765625 -6.28125 3.265625 -6.28125 C 3.5625 -6.28125 4.078125 -6.140625 4.078125 -5.265625 C 4.078125 -4.8125 3.828125 -3.8125 3.265625 -1.71875 C 3.03125 -0.796875 2.515625 -0.171875 1.859375 -0.171875 C 1.765625 -0.171875 1.421875 -0.171875 1.109375 -0.359375 C 1.484375 -0.4375 1.8125 -0.75 1.8125 -1.171875 C 1.8125 -1.5625 1.484375 -1.6875 1.25 -1.6875 C 0.8125 -1.6875 0.4375 -1.296875 0.4375 -0.828125 C 0.4375 -0.140625 1.1875 0.171875 1.84375 0.171875 C 2.828125 0.171875 3.359375 -0.875 3.40625 -0.96875 C 3.578125 -0.421875 4.125 0.171875 5.015625 0.171875 C 6.5625 0.171875 7.40625 -1.765625 7.40625 -2.140625 C 7.40625 -2.28125 7.28125 -2.28125 7.234375 -2.28125 C 7.09375 -2.28125 7.0625 -2.21875 7.03125 -2.125 C 6.546875 -0.515625 5.53125 -0.171875 5.046875 -0.171875 C 4.46875 -0.171875 4.234375 -0.640625 4.234375 -1.15625 C 4.234375 -1.484375 4.3125 -1.8125 4.484375 -2.46875 Z M 4.984375 -4.515625 \"/>\n",
       "</symbol>\n",
       "<symbol overflow=\"visible\" id=\"glyph1-0\">\n",
       "<path style=\"stroke:none;\" d=\"\"/>\n",
       "</symbol>\n",
       "<symbol overflow=\"visible\" id=\"glyph1-1\">\n",
       "<path style=\"stroke:none;\" d=\"M 3.578125 -4.9375 C 3.546875 -4.9375 3.515625 -4.9375 3.25 -4.6875 C 1.375 -2.828125 -1.453125 -2.34375 -3.734375 -2.34375 C -6.328125 -2.34375 -8.9375 -2.90625 -10.796875 -4.75 C -10.984375 -4.9375 -11.015625 -4.9375 -11.046875 -4.9375 C -11.15625 -4.9375 -11.203125 -4.890625 -11.203125 -4.796875 C -11.203125 -4.640625 -10.1875 -3.296875 -8.296875 -2.421875 C -6.640625 -1.65625 -4.984375 -1.484375 -3.734375 -1.484375 C -2.5625 -1.484375 -0.765625 -1.640625 0.921875 -2.46875 C 2.765625 -3.359375 3.734375 -4.640625 3.734375 -4.796875 C 3.734375 -4.890625 3.6875 -4.9375 3.578125 -4.9375 Z M 3.578125 -4.9375 \"/>\n",
       "</symbol>\n",
       "<symbol overflow=\"visible\" id=\"glyph1-2\">\n",
       "<path style=\"stroke:none;\" d=\"M -3.734375 -4.3125 C -4.90625 -4.3125 -6.703125 -4.15625 -8.390625 -3.328125 C -10.234375 -2.4375 -11.203125 -1.15625 -11.203125 -1 C -11.203125 -0.90625 -11.140625 -0.84375 -11.046875 -0.84375 C -11.015625 -0.84375 -10.984375 -0.84375 -10.703125 -1.140625 C -9.234375 -2.59375 -6.859375 -3.453125 -3.734375 -3.453125 C -1.1875 -3.453125 1.453125 -2.890625 3.328125 -1.046875 C 3.515625 -0.84375 3.546875 -0.84375 3.578125 -0.84375 C 3.671875 -0.84375 3.734375 -0.90625 3.734375 -1 C 3.734375 -1.15625 2.71875 -2.5 0.828125 -3.375 C -0.828125 -4.140625 -2.484375 -4.3125 -3.734375 -4.3125 Z M -3.734375 -4.3125 \"/>\n",
       "</symbol>\n",
       "<symbol overflow=\"visible\" id=\"glyph2-0\">\n",
       "<path style=\"stroke:none;\" d=\"\"/>\n",
       "</symbol>\n",
       "<symbol overflow=\"visible\" id=\"glyph2-1\">\n",
       "<path style=\"stroke:none;\" d=\"M -4.515625 -4.984375 C -4.90625 -5.078125 -6.28125 -5.421875 -6.28125 -6.46875 C -6.28125 -6.546875 -6.28125 -6.90625 -6.078125 -7.21875 C -6 -6.796875 -5.625 -6.5 -5.265625 -6.5 C -5.03125 -6.5 -4.75 -6.65625 -4.75 -7.0625 C -4.75 -7.390625 -5.015625 -7.875 -5.609375 -7.875 C -6.390625 -7.875 -6.609375 -6.984375 -6.609375 -6.484375 C -6.609375 -5.609375 -5.8125 -5.09375 -5.46875 -4.921875 C -6.453125 -4.546875 -6.609375 -3.734375 -6.609375 -3.296875 C -6.609375 -1.75 -4.671875 -0.890625 -4.296875 -0.890625 C -4.15625 -0.890625 -4.15625 -1.046875 -4.15625 -1.078125 C -4.15625 -1.1875 -4.1875 -1.234375 -4.3125 -1.265625 C -5.90625 -1.78125 -6.28125 -2.765625 -6.28125 -3.265625 C -6.28125 -3.5625 -6.140625 -4.078125 -5.265625 -4.078125 C -4.8125 -4.078125 -3.8125 -3.828125 -1.71875 -3.265625 C -0.796875 -3.03125 -0.171875 -2.515625 -0.171875 -1.859375 C -0.171875 -1.765625 -0.171875 -1.421875 -0.359375 -1.109375 C -0.4375 -1.484375 -0.75 -1.8125 -1.171875 -1.8125 C -1.5625 -1.8125 -1.6875 -1.484375 -1.6875 -1.25 C -1.6875 -0.8125 -1.296875 -0.4375 -0.828125 -0.4375 C -0.140625 -0.4375 0.171875 -1.1875 0.171875 -1.84375 C 0.171875 -2.828125 -0.875 -3.359375 -0.96875 -3.40625 C -0.421875 -3.578125 0.171875 -4.125 0.171875 -5.015625 C 0.171875 -6.5625 -1.765625 -7.40625 -2.140625 -7.40625 C -2.28125 -7.40625 -2.28125 -7.28125 -2.28125 -7.234375 C -2.28125 -7.09375 -2.21875 -7.0625 -2.125 -7.03125 C -0.515625 -6.546875 -0.171875 -5.53125 -0.171875 -5.046875 C -0.171875 -4.46875 -0.640625 -4.234375 -1.15625 -4.234375 C -1.484375 -4.234375 -1.8125 -4.3125 -2.46875 -4.484375 Z M -4.515625 -4.984375 \"/>\n",
       "</symbol>\n",
       "<symbol overflow=\"visible\" id=\"glyph2-2\">\n",
       "<path style=\"stroke:none;\" d=\"M -5.640625 -5.578125 C -6.203125 -5.296875 -6.609375 -4.875 -6.609375 -4.203125 C -6.609375 -2.453125 -4.40625 -0.59375 -2.21875 -0.59375 C -0.828125 -0.59375 0.171875 -1.421875 0.171875 -2.578125 C 0.171875 -2.890625 0.109375 -3.625 -0.953125 -4.53125 C -0.328125 -4.640625 0.171875 -5.171875 0.171875 -5.890625 C 0.171875 -6.40625 -0.171875 -6.75 -0.65625 -6.984375 C -1.1875 -7.25 -2.109375 -7.4375 -2.140625 -7.4375 C -2.28125 -7.4375 -2.28125 -7.296875 -2.28125 -7.265625 C -2.28125 -7.109375 -2.21875 -7.09375 -2.015625 -7.046875 C -1.046875 -6.796875 -0.171875 -6.53125 -0.171875 -5.921875 C -0.171875 -5.515625 -0.546875 -5.46875 -0.84375 -5.46875 C -1.1875 -5.46875 -1.296875 -5.5 -1.953125 -5.65625 C -2.578125 -5.828125 -2.734375 -5.859375 -3.296875 -5.984375 L -5.390625 -6.53125 C -5.8125 -6.625 -5.84375 -6.625 -5.90625 -6.625 C -6.15625 -6.625 -6.296875 -6.453125 -6.296875 -6.203125 C -6.296875 -5.84375 -5.96875 -5.609375 -5.640625 -5.578125 Z M -1.78125 -4.59375 C -1.515625 -4.53125 -1.484375 -4.53125 -1.21875 -4.296875 C -0.40625 -3.640625 -0.171875 -3.03125 -0.171875 -2.609375 C -0.171875 -1.859375 -0.984375 -1.65625 -1.5625 -1.65625 C -2.3125 -1.65625 -4.15625 -2.140625 -4.84375 -2.484375 C -5.71875 -2.9375 -6.28125 -3.609375 -6.28125 -4.21875 C -6.28125 -5.1875 -5.046875 -5.390625 -4.953125 -5.390625 C -4.875 -5.390625 -4.78125 -5.359375 -4.703125 -5.34375 Z M -1.78125 -4.59375 \"/>\n",
       "</symbol>\n",
       "<symbol overflow=\"visible\" id=\"glyph2-3\">\n",
       "<path style=\"stroke:none;\" d=\"M -3.453125 -2.796875 C -3.453125 -3.21875 -3.484375 -4.328125 -3.796875 -5.078125 C -4.25 -6.125 -5.125 -6.203125 -5.328125 -6.203125 C -5.984375 -6.203125 -6.609375 -5.625 -6.609375 -4.59375 C -6.609375 -2.9375 -5.15625 -0.6875 -2.546875 -0.6875 C -1.015625 -0.6875 0.171875 -1.5625 0.171875 -3.03125 C 0.171875 -5.171875 -1.421875 -6.421875 -1.59375 -6.421875 C -1.6875 -6.421875 -1.796875 -6.328125 -1.796875 -6.25 C -1.796875 -6.171875 -1.765625 -6.140625 -1.640625 -6.046875 C -0.171875 -4.875 -0.171875 -3.234375 -0.171875 -3.0625 C -0.171875 -1.890625 -1.421875 -1.765625 -1.890625 -1.765625 C -2.078125 -1.765625 -2.546875 -1.78125 -3.453125 -2 Z M -3.78125 -2.09375 C -6.046875 -2.671875 -6.28125 -4.21875 -6.28125 -4.59375 C -6.28125 -5.296875 -5.84375 -5.703125 -5.328125 -5.703125 C -3.78125 -5.703125 -3.78125 -3.3125 -3.78125 -2.703125 Z M -3.78125 -2.09375 \"/>\n",
       "</symbol>\n",
       "<symbol overflow=\"visible\" id=\"glyph3-0\">\n",
       "<path style=\"stroke:none;\" d=\"\"/>\n",
       "</symbol>\n",
       "<symbol overflow=\"visible\" id=\"glyph3-1\">\n",
       "<path style=\"stroke:none;\" d=\"M -3.4375 -9.84375 C -3.4375 -10.09375 -3.4375 -10.359375 -3.734375 -10.359375 C -4.03125 -10.359375 -4.03125 -10.09375 -4.03125 -9.84375 L -4.03125 -1.765625 C -4.03125 -1.515625 -4.03125 -1.234375 -3.734375 -1.234375 C -3.4375 -1.234375 -3.4375 -1.515625 -3.4375 -1.765625 Z M -3.4375 -9.84375 \"/>\n",
       "</symbol>\n",
       "<symbol overflow=\"visible\" id=\"glyph4-0\">\n",
       "<path style=\"stroke:none;\" d=\"\"/>\n",
       "</symbol>\n",
       "<symbol overflow=\"visible\" id=\"glyph4-1\">\n",
       "<path style=\"stroke:none;\" d=\"M -2.359375 -7.78125 C -2.359375 -7.9375 -2.359375 -8.203125 -2.609375 -8.203125 C -2.875 -8.203125 -2.875 -7.953125 -2.875 -7.78125 L -2.875 -1.546875 C -2.875 -1.375 -2.875 -1.125 -2.625 -1.125 C -2.359375 -1.125 -2.359375 -1.375 -2.359375 -1.546875 Z M -2.359375 -7.78125 \"/>\n",
       "</symbol>\n",
       "<symbol overflow=\"visible\" id=\"glyph5-0\">\n",
       "<path style=\"stroke:none;\" d=\"\"/>\n",
       "</symbol>\n",
       "<symbol overflow=\"visible\" id=\"glyph5-1\">\n",
       "<path style=\"stroke:none;\" d=\"M -7.84375 -3.703125 C -6.4375 -1.71875 -4.21875 -1.203125 -2.625 -1.203125 C -1.15625 -1.203125 1.140625 -1.640625 2.609375 -3.703125 C 2.609375 -3.796875 2.609375 -3.921875 2.484375 -3.921875 C 2.421875 -3.921875 2.390625 -3.890625 2.328125 -3.8125 C 1.0625 -2.421875 -0.703125 -1.90625 -2.609375 -1.90625 C -5.4375 -1.90625 -6.8125 -2.984375 -7.59375 -3.84375 C -7.625 -3.890625 -7.65625 -3.921875 -7.71875 -3.921875 C -7.84375 -3.921875 -7.84375 -3.796875 -7.84375 -3.703125 Z M -7.84375 -3.703125 \"/>\n",
       "</symbol>\n",
       "<symbol overflow=\"visible\" id=\"glyph5-2\">\n",
       "<path style=\"stroke:none;\" d=\"M -7.84375 -0.9375 C -7.84375 -0.875 -7.84375 -0.734375 -7.71875 -0.734375 C -7.65625 -0.734375 -7.625 -0.78125 -7.5625 -0.84375 C -6.734375 -1.734375 -5.328125 -2.734375 -2.625 -2.734375 C -0.4375 -2.734375 1.21875 -2.0625 2.234375 -0.9375 C 2.421875 -0.75 2.421875 -0.734375 2.484375 -0.734375 C 2.53125 -0.734375 2.609375 -0.78125 2.609375 -0.875 C 2.609375 -1 1.90625 -2 0.609375 -2.6875 C -0.265625 -3.140625 -1.390625 -3.453125 -2.609375 -3.453125 C -4.09375 -3.453125 -6.375 -3.015625 -7.84375 -0.9375 Z M -7.84375 -0.9375 \"/>\n",
       "</symbol>\n",
       "<symbol overflow=\"visible\" id=\"glyph6-0\">\n",
       "<path style=\"stroke:none;\" d=\"\"/>\n",
       "</symbol>\n",
       "<symbol overflow=\"visible\" id=\"glyph6-1\">\n",
       "<path style=\"stroke:none;\" d=\"M -1.109375 -2.609375 C -0.75 -2.5 -0.1875 -2.15625 -0.1875 -1.625 C -0.1875 -1.59375 -0.1875 -1.28125 -0.328125 -1.0625 C -0.46875 -1.484375 -0.84375 -1.515625 -0.90625 -1.515625 C -1.140625 -1.515625 -1.296875 -1.34375 -1.296875 -1.09375 C -1.296875 -0.8125 -1.046875 -0.5 -0.65625 -0.5 C -0.140625 -0.5 0.109375 -1.09375 0.109375 -1.59375 C 0.109375 -2.078125 -0.203125 -2.515625 -0.640625 -2.765625 C -0.078125 -3.015625 0.109375 -3.59375 0.109375 -4.015625 C 0.109375 -5.21875 -1.203125 -5.859375 -1.5 -5.859375 C -1.625 -5.859375 -1.625 -5.71875 -1.625 -5.6875 C -1.625 -5.546875 -1.578125 -5.53125 -1.453125 -5.484375 C -0.734375 -5.265625 -0.1875 -4.640625 -0.1875 -4.0625 C -0.1875 -3.640625 -0.46875 -3.421875 -0.875 -3.421875 C -1.140625 -3.421875 -2.09375 -3.671875 -3.25 -3.96875 C -4.0625 -4.171875 -4.3125 -4.640625 -4.3125 -4.984375 C -4.3125 -5 -4.3125 -5.328125 -4.171875 -5.546875 C -4.078125 -5.21875 -3.78125 -5.09375 -3.59375 -5.09375 C -3.359375 -5.09375 -3.203125 -5.265625 -3.203125 -5.515625 C -3.203125 -5.75 -3.40625 -6.09375 -3.84375 -6.09375 C -4.4375 -6.09375 -4.609375 -5.421875 -4.609375 -5 C -4.609375 -4.484375 -4.265625 -4.0625 -3.875 -3.84375 C -4.296875 -3.640625 -4.609375 -3.171875 -4.609375 -2.578125 C -4.609375 -1.40625 -3.328125 -0.734375 -3.015625 -0.734375 C -2.875 -0.734375 -2.875 -0.890625 -2.875 -0.921875 C -2.875 -1.0625 -2.921875 -1.0625 -3.046875 -1.125 C -3.875 -1.375 -4.3125 -2.03125 -4.3125 -2.546875 C -4.3125 -2.890625 -4.125 -3.171875 -3.625 -3.171875 C -3.421875 -3.171875 -2.890625 -3.046875 -2.546875 -2.953125 Z M -1.109375 -2.609375 \"/>\n",
       "</symbol>\n",
       "<symbol overflow=\"visible\" id=\"glyph6-2\">\n",
       "<path style=\"stroke:none;\" d=\"M -4 -4.40625 C -4.34375 -4.1875 -4.609375 -3.84375 -4.609375 -3.328125 C -4.609375 -2 -3.140625 -0.640625 -1.625 -0.640625 C -0.609375 -0.640625 0.109375 -1.3125 0.109375 -2.21875 C 0.109375 -2.78125 -0.21875 -3.28125 -0.625 -3.703125 C 0 -3.90625 0.109375 -4.5 0.109375 -4.78125 C 0.109375 -5.15625 -0.125 -5.421875 -0.453125 -5.609375 C -0.859375 -5.828125 -1.453125 -5.96875 -1.5 -5.96875 C -1.625 -5.96875 -1.625 -5.828125 -1.625 -5.796875 C -1.625 -5.65625 -1.59375 -5.640625 -1.3125 -5.578125 C -0.8125 -5.453125 -0.1875 -5.25 -0.1875 -4.8125 C -0.1875 -4.53125 -0.421875 -4.46875 -0.703125 -4.46875 C -0.875 -4.46875 -1.25 -4.546875 -1.53125 -4.625 C -1.8125 -4.6875 -2.234375 -4.796875 -2.46875 -4.84375 L -3.265625 -5.0625 C -3.53125 -5.125 -4.03125 -5.25 -4.078125 -5.25 C -4.3125 -5.25 -4.40625 -5.0625 -4.40625 -4.890625 C -4.40625 -4.71875 -4.28125 -4.46875 -4 -4.40625 Z M -1.3125 -3.75 C -1.015625 -3.671875 -0.8125 -3.4375 -0.609375 -3.203125 C -0.515625 -3.109375 -0.1875 -2.703125 -0.1875 -2.25 C -0.1875 -1.859375 -0.453125 -1.484375 -1.203125 -1.484375 C -1.75 -1.484375 -2.90625 -1.78125 -3.328125 -2.03125 C -4.15625 -2.515625 -4.3125 -3.046875 -4.3125 -3.328125 C -4.3125 -4.0625 -3.515625 -4.265625 -3.40625 -4.265625 C -3.359375 -4.265625 -3.296875 -4.25 -3.265625 -4.234375 Z M -1.3125 -3.75 \"/>\n",
       "</symbol>\n",
       "<symbol overflow=\"visible\" id=\"glyph7-0\">\n",
       "<path style=\"stroke:none;\" d=\"\"/>\n",
       "</symbol>\n",
       "<symbol overflow=\"visible\" id=\"glyph7-1\">\n",
       "<path style=\"stroke:none;\" d=\"M -1.4375 -4.40625 L -1.4375 -4.078125 C -1.296875 -4.0625 -0.84375 -3.984375 -0.765625 -3.875 C -0.71875 -3.8125 -0.71875 -3.1875 -0.71875 -3.0625 L -0.71875 -1.609375 C -1.078125 -2.09375 -1.5 -2.65625 -1.796875 -3.09375 C -2.265625 -3.765625 -2.703125 -4.40625 -3.484375 -4.40625 C -4.4375 -4.40625 -4.96875 -3.5 -4.96875 -2.421875 C -4.96875 -1.421875 -4.390625 -0.671875 -3.65625 -0.671875 C -3.265625 -0.671875 -3.203125 -1.015625 -3.203125 -1.109375 C -3.203125 -1.3125 -3.34375 -1.546875 -3.640625 -1.546875 C -3.90625 -1.546875 -4.0625 -1.359375 -4.078125 -1.125 C -4.421875 -1.34375 -4.640625 -1.765625 -4.640625 -2.265625 C -4.640625 -3 -4.21875 -3.59375 -3.484375 -3.59375 C -2.859375 -3.59375 -2.375 -3.171875 -1.890625 -2.59375 L -0.34375 -0.765625 C -0.28125 -0.6875 -0.28125 -0.6875 -0.21875 -0.671875 L 0 -0.671875 L 0 -4.15625 Z M -1.4375 -4.40625 \"/>\n",
       "</symbol>\n",
       "</g>\n",
       "<clipPath id=\"clip1\">\n",
       "  <path d=\"M 66 72 L 297.214844 72 L 297.214844 74 L 66 74 Z M 66 72 \"/>\n",
       "</clipPath>\n",
       "<clipPath id=\"clip2\">\n",
       "  <path d=\"M 68 0.296875 L 295 0.296875 L 295 145.640625 L 68 145.640625 Z M 68 0.296875 \"/>\n",
       "</clipPath>\n",
       "</defs>\n",
       "<g id=\"surface1\">\n",
       "<g clip-path=\"url(#clip1)\" clip-rule=\"nonzero\">\n",
       "<path style=\"fill:none;stroke-width:0.3985;stroke-linecap:butt;stroke-linejoin:miter;stroke:rgb(0%,0%,0%);stroke-opacity:1;stroke-miterlimit:10;\" d=\"M -12.799437 40.373167 L 140.794312 40.373167 \" transform=\"matrix(1.5,0,0,-1.5,85.7265,133.5285)\"/>\n",
       "</g>\n",
       "<path style=\"fill:none;stroke-width:0.3985;stroke-linecap:butt;stroke-linejoin:miter;stroke:rgb(0%,0%,0%);stroke-opacity:1;stroke-miterlimit:10;\" d=\"M 64.000042 -8.07475 L 64.000042 88.821083 \" transform=\"matrix(1.5,0,0,-1.5,85.7265,133.5285)\"/>\n",
       "<g clip-path=\"url(#clip2)\" clip-rule=\"nonzero\">\n",
       "<path style=\"fill:none;stroke-width:0.79701;stroke-linecap:butt;stroke-linejoin:miter;stroke:rgb(100%,50%,0%);stroke-opacity:1;stroke-miterlimit:10;\" d=\"M 0.0000416667 40.336708 L 1.291708 40.323688 L 2.585979 40.305458 L 3.877646 40.279417 L 5.171917 40.242958 L 6.463583 40.196083 L 7.757854 40.136188 L 9.049521 40.052854 L 10.343792 39.948688 L 11.635458 39.813271 L 12.929729 39.641396 L 14.221396 39.422646 L 15.515667 39.151813 L 16.807333 38.813271 L 18.101604 38.396604 L 19.393271 37.888792 L 20.684938 37.274208 L 21.979208 36.542438 L 23.270875 35.677854 L 24.565146 34.664833 L 25.856813 33.490354 L 27.151083 32.144 L 28.44275 30.617958 L 29.737021 28.912229 L 31.028688 27.024208 L 32.322958 24.969521 L 33.614625 22.73775 L 34.908896 20.383583 L 36.200563 17.922646 L 37.492229 15.386188 L 38.7865 12.844521 L 40.078167 10.349729 L 41.372438 7.9565 L 42.664104 5.742958 L 43.958375 3.782021 L 45.250042 2.154417 L 46.544313 0.935667 L 47.835979 0.198688 L 49.13025 0.000770833 L 50.421917 0.412229 L 51.716188 1.459104 L 53.007854 3.177854 L 54.302125 5.563271 L 55.593792 8.61275 L 56.885458 12.287229 L 58.179729 16.534625 L 59.471396 21.274208 L 60.765667 26.427854 L 62.057333 31.878375 L 63.351604 37.516396 L 64.643271 43.216917 L 65.937542 48.854938 L 67.229208 54.308063 L 68.523479 59.459104 L 69.815146 64.203896 L 71.109417 68.448688 L 72.401083 72.128375 L 73.695354 75.177854 L 74.987021 77.563271 L 76.278688 79.284625 L 77.572958 80.3315 L 78.864625 80.745563 L 80.158896 80.552854 L 81.450563 79.810667 L 82.744833 78.594521 L 84.0365 76.969521 L 85.330771 75.008583 L 86.622438 72.795042 L 87.916708 70.404417 L 89.208375 67.899208 L 90.502646 65.357542 L 91.794313 62.834104 L 93.088583 60.360146 L 94.38025 58.005979 L 95.671917 55.792438 L 96.966188 53.727333 L 98.257854 51.836708 L 99.552125 50.128375 L 100.843792 48.604938 L 102.138063 47.258583 L 103.429729 46.084104 L 104.724 45.071083 L 106.015667 44.203896 L 107.309938 43.472125 L 108.601604 42.857542 L 109.895875 42.349729 L 111.187542 41.933063 L 112.481813 41.594521 L 113.773479 41.321083 L 115.065146 41.104938 L 116.359417 40.930458 L 117.651083 40.797646 L 118.945354 40.690875 L 120.237021 40.610146 L 121.531292 40.547646 L 122.822958 40.503375 L 124.117229 40.466917 L 125.408896 40.440875 L 126.703167 40.422646 L 127.994833 40.407021 \" transform=\"matrix(1.5,0,0,-1.5,85.7265,133.5285)\"/>\n",
       "</g>\n",
       "<g style=\"fill:rgb(0%,0%,0%);fill-opacity:1;\">\n",
       "  <use xlink:href=\"#glyph0-1\" x=\"177.4515\" y=\"179.7705\"/>\n",
       "</g>\n",
       "<g style=\"fill:rgb(0%,0%,0%);fill-opacity:1;\">\n",
       "  <use xlink:href=\"#glyph1-1\" x=\"19.7295\" y=\"123.543\"/>\n",
       "</g>\n",
       "<g style=\"fill:rgb(0%,0%,0%);fill-opacity:1;\">\n",
       "  <use xlink:href=\"#glyph2-1\" x=\"19.7295\" y=\"117.732\"/>\n",
       "</g>\n",
       "<g style=\"fill:rgb(0%,0%,0%);fill-opacity:1;\">\n",
       "  <use xlink:href=\"#glyph3-1\" x=\"19.7295\" y=\"105.87\"/>\n",
       "</g>\n",
       "<g style=\"fill:rgb(0%,0%,0%);fill-opacity:1;\">\n",
       "  <use xlink:href=\"#glyph2-2\" x=\"19.7295\" y=\"90.927\"/>\n",
       "</g>\n",
       "<g style=\"fill:rgb(0%,0%,0%);fill-opacity:1;\">\n",
       "  <use xlink:href=\"#glyph1-2\" x=\"19.7295\" y=\"83.028\"/>\n",
       "</g>\n",
       "<g style=\"fill:rgb(0%,0%,0%);fill-opacity:1;\">\n",
       "  <use xlink:href=\"#glyph2-3\" x=\"19.7295\" y=\"77.2155\"/>\n",
       "</g>\n",
       "<g style=\"fill:rgb(0%,0%,0%);fill-opacity:1;\">\n",
       "  <use xlink:href=\"#glyph4-1\" x=\"14.3055\" y=\"70.257\"/>\n",
       "</g>\n",
       "<g style=\"fill:rgb(0%,0%,0%);fill-opacity:1;\">\n",
       "  <use xlink:href=\"#glyph5-1\" x=\"14.3055\" y=\"60.918\"/>\n",
       "</g>\n",
       "<g style=\"fill:rgb(0%,0%,0%);fill-opacity:1;\">\n",
       "  <use xlink:href=\"#glyph6-1\" x=\"14.3055\" y=\"56.247\"/>\n",
       "</g>\n",
       "<g style=\"fill:rgb(0%,0%,0%);fill-opacity:1;\">\n",
       "  <use xlink:href=\"#glyph4-1\" x=\"14.3055\" y=\"49.47\"/>\n",
       "</g>\n",
       "<g style=\"fill:rgb(0%,0%,0%);fill-opacity:1;\">\n",
       "  <use xlink:href=\"#glyph6-2\" x=\"14.3055\" y=\"40.131\"/>\n",
       "</g>\n",
       "<g style=\"fill:rgb(0%,0%,0%);fill-opacity:1;\">\n",
       "  <use xlink:href=\"#glyph5-2\" x=\"14.3055\" y=\"33.648\"/>\n",
       "</g>\n",
       "<g style=\"fill:rgb(0%,0%,0%);fill-opacity:1;\">\n",
       "  <use xlink:href=\"#glyph7-1\" x=\"9.7965\" y=\"28.9785\"/>\n",
       "</g>\n",
       "</g>\n",
       "</svg>"
      ],
      "text/plain": [
       "<IPython.core.display.SVG object>"
      ]
     },
     "execution_count": 6,
     "metadata": {},
     "output_type": "execute_result"
    }
   ],
   "source": [
    "%%itikz\n",
    "\n",
    "\\documentclass[tikz]{standalone}\n",
    "\\usepackage{tikz}\n",
    "\\usepackage{pgfplots}\n",
    "\n",
    "\\pgfmathdeclarefunction{gaussx}{1}{%\n",
    "  \\pgfmathparse{(x-#1)*exp(-((x-#1)^2)}%\n",
    "}\n",
    "      \n",
    "\\begin{document}    \n",
    "\n",
    "                 \n",
    "\\begin{tikzpicture}[scale=1.5]\n",
    "\n",
    "  \\begin{axis}[\n",
    "      no markers,\n",
    "      domain=-3:3,\n",
    "      samples=100,\n",
    "      axis lines*=middle,\n",
    "      xlabel=$x$,\n",
    "      ylabel=$(x-a)e^{-(x-a)^2}$,\n",
    "      height=5cm, width=7cm,\n",
    "      xtick=\\empty,\n",
    "      ytick=\\empty,\n",
    "      restrict y to domain=--3:3]\n",
    "\n",
    "      \\addplot [thick, orange] {gaussx(0)};\n",
    "         \n",
    "\n",
    "    \\end{axis}\n",
    "\\end{tikzpicture}\n",
    "\n",
    "\\end{document}"
   ]
  },
  {
   "cell_type": "markdown",
   "id": "therapeutic-furniture",
   "metadata": {
    "tags": []
   },
   "source": [
    "If we were to sum the area under the graph on the right side, and subtract the area above the graph on the left side, (as we would with the integral) we would be left with 0. For each point on the left there is an equivalant point on the right, with the opposite sign.\n",
    "\n",
    "Thus $I_1 = 0$.\n",
    "\n",
    "So $$\n",
    "<x> = A \\Big(0 + a \\Big(\\sqrt{\\frac{\\pi}{\\lambda}}\\Big)\\Big).$$\n",
    "Now we can pull $A$ from the previous problem, and multiply it through to get,\n",
    "$$\n",
    "\\begin{align}\n",
    "<x> &= \\sqrt{\\frac{\\lambda}{\\pi}} \\Big(0 + a \\Big(\\sqrt{\\frac{\\pi}{\\lambda}}\\Big)\\Big)\\\\\n",
    "&= a\n",
    "\\end{align}\n",
    "$$\n",
    "\n",
    "\n",
    "So, the expected value of the Gaussian distribution is the value it's peak is centered on."
   ]
  },
  {
   "cell_type": "markdown",
   "id": "chubby-london",
   "metadata": {
    "tags": []
   },
   "source": [
    "##### **Evaluate < x<sup>2</sup> >**\n",
    "\n",
    "$$<x^2> = \\frac{2}{\\lambda} + a^2$$\n",
    "\n",
    "**Working:**  \n",
    "Next up we need to find $<x^2>$. Similar to before we start with $$\n",
    "<x^2> = \\sqrt{\\frac{\\lambda}{\\pi}} \\int_{-\\infty}^{+\\infty}{x^2 e^{-\\lambda(x-a)^2}}dx.\n",
    "$$\n",
    "\n",
    "To begin, let $y = x-a$. Making our equation,$$\n",
    "<x^2> = \\sqrt{\\frac{\\lambda}{\\pi}} \\int_{-\\infty}^{+\\infty}{(y+a)^2 e^{-\\lambda(y)^2}}dx.\n",
    "$$ We expand the equation $(y+a)^2$, which turns our integral into the sum of three integrals.$$\n",
    "\\begin{align}\n",
    "\\sqrt{\\frac{\\lambda}{\\pi}} \\Big[\\ \n",
    "    \\overbrace{\\int_{-\\infty}^{+\\infty}{y^2 e^{-\\lambda y^2}}dx}^{\\ I_1\\ }\n",
    "    \\ +\\ 2a \\overbrace{\\int_{-\\infty}^{+\\infty}{y e^{-\\lambda y^2}}dx}^{\\ I_2\\ }\n",
    "    \\ +\\ a^2 \\overbrace{\\int_{-\\infty}^{+\\infty}{ e^{-\\lambda y^2}}dx}^{\\ I_2\\ }\n",
    "    \\ \\Big]\n",
    "\\end{align}\n",
    "$$\n",
    "\n",
    "While this looks big and scary, the only really tricky integral is $I_1$, \n",
    "if you look closer, all the others we have solved previously.\n",
    "We can use the integration by parts formula $$\\int{UdV} = UV - \\int{VdU},$$\n",
    "to simplify our problem. Where $U$ and $V$ represent differentiable functions.\n",
    "To evaluate $I_1$ we let $$V = e^{-\\lambda y^2},$$\n",
    "then by the chain rule $$dV =  \\frac{-\\lambda y}{2} e^{-\\lambda y^2}.$$\n",
    "\n",
    "We can now determin $U$ by back substitutitung $dV$ into the left hand side\n",
    "of the integration by parts formula.\n",
    "Skipping over the algebra, we have $$ U = \\frac{2y}{-\\lambda}.$$\n",
    "*To see why, multiply $U$ by $dV$ and see what you get.*\n",
    "Finally we differentiate $U$, to get $$dU = \\frac{2}{-\\lambda}.$$\n",
    "\n",
    "Now, bringing it all together we have,$$\n",
    "\\Big[\n",
    "%U\n",
    "\\overbrace{\\frac{2y}{-\\lambda}}^{\\ U\\ }\n",
    "%V\n",
    "\\overbrace{e^{-\\lambda y^2}}^{\\ V\\ }\n",
    "\\Big]_{-\\infty}^{+\\infty}\n",
    "%V\n",
    "-\\int\\limits_{-\\infty}^{+\\infty}{\n",
    "\\overbrace{e^{-\\lambda y^2}}^{\\ V\\ }\n",
    "%dU\n",
    "\\overbrace{\\frac{2}{-\\lambda}}^{\\ dU\\ }\n",
    "}dy\n",
    "$$\n",
    "\n"
   ]
  },
  {
   "cell_type": "markdown",
   "id": "greater-notice",
   "metadata": {},
   "source": [
    "So if we take the $\\lim\\limits_{y \\to \\pm\\infty}$ we find that the left side goes to 0.\n",
    "Meanwhile the integral at the right side is just the general [Gaussian integral] again.\n",
    "So on the right we have,$$\n",
    "-\\frac{2}{-\\lambda}\n",
    "\\int\\limits_{-\\infty}^{+\\infty}{e^{-\\lambda y^2} }dy = \\frac{2}{\\lambda} \\sqrt{\\frac{\\pi}{\\lambda}}\n",
    "$$\n",
    "\n",
    "\n",
    "[Gaussian Integral]: https://en.wikipedia.org/wiki/Gaussian_integral"
   ]
  },
  {
   "cell_type": "markdown",
   "id": "pacific-symbol",
   "metadata": {},
   "source": [
    "Finally, we can now bring the integrals together\n",
    "$$\n",
    "<x^2> = A [I_1 + I_2 + I_3].\n",
    "$$\n",
    "Where $I_1 = \\frac{2}{\\lambda} \\sqrt{\\frac{\\pi}{\\lambda}}$,\n",
    "$I_2 = 0$, $I_3 = a^2 \\sqrt{\\frac{\\pi}{\\lambda}}$,\n",
    "and recall $A = \\sqrt{\\frac{\\pi}{\\lambda}}^{-1}$.\n",
    "So we have,$$\n",
    "<x^2> = A [\\frac{2}{\\lambda} A^{-1}+ 0 + a^2 A^{-1}]\\\\\n",
    "= \\frac{2}{\\lambda} + a^2.\n",
    "$$\n"
   ]
  },
  {
   "cell_type": "markdown",
   "id": "appreciated-mustang",
   "metadata": {},
   "source": [
    "#### c) plot of gaussian distribution"
   ]
  },
  {
   "cell_type": "code",
   "execution_count": 8,
   "id": "warming-resistance",
   "metadata": {
    "jupyter": {
     "source_hidden": true
    },
    "tags": []
   },
   "outputs": [
    {
     "data": {
      "image/svg+xml": [
       "<svg xmlns=\"http://www.w3.org/2000/svg\" xmlns:xlink=\"http://www.w3.org/1999/xlink\" width=\"295.346pt\" height=\"184.749pt\" viewBox=\"0 0 295.346 184.749\" version=\"1.1\">\n",
       "<defs>\n",
       "<g>\n",
       "<symbol overflow=\"visible\" id=\"glyph0-0\">\n",
       "<path style=\"stroke:none;\" d=\"\"/>\n",
       "</symbol>\n",
       "<symbol overflow=\"visible\" id=\"glyph0-1\">\n",
       "<path style=\"stroke:none;\" d=\"M 4.984375 -4.515625 C 5.078125 -4.90625 5.421875 -6.28125 6.46875 -6.28125 C 6.546875 -6.28125 6.90625 -6.28125 7.21875 -6.078125 C 6.796875 -6 6.5 -5.625 6.5 -5.265625 C 6.5 -5.03125 6.65625 -4.75 7.0625 -4.75 C 7.390625 -4.75 7.875 -5.015625 7.875 -5.609375 C 7.875 -6.390625 6.984375 -6.609375 6.484375 -6.609375 C 5.609375 -6.609375 5.09375 -5.8125 4.921875 -5.46875 C 4.546875 -6.453125 3.734375 -6.609375 3.296875 -6.609375 C 1.75 -6.609375 0.890625 -4.671875 0.890625 -4.296875 C 0.890625 -4.15625 1.046875 -4.15625 1.078125 -4.15625 C 1.1875 -4.15625 1.234375 -4.1875 1.265625 -4.3125 C 1.78125 -5.90625 2.765625 -6.28125 3.265625 -6.28125 C 3.5625 -6.28125 4.078125 -6.140625 4.078125 -5.265625 C 4.078125 -4.8125 3.828125 -3.8125 3.265625 -1.71875 C 3.03125 -0.796875 2.515625 -0.171875 1.859375 -0.171875 C 1.765625 -0.171875 1.421875 -0.171875 1.109375 -0.359375 C 1.484375 -0.4375 1.8125 -0.75 1.8125 -1.171875 C 1.8125 -1.5625 1.484375 -1.6875 1.25 -1.6875 C 0.8125 -1.6875 0.4375 -1.296875 0.4375 -0.828125 C 0.4375 -0.140625 1.1875 0.171875 1.84375 0.171875 C 2.828125 0.171875 3.359375 -0.875 3.40625 -0.96875 C 3.578125 -0.421875 4.125 0.171875 5.015625 0.171875 C 6.5625 0.171875 7.40625 -1.765625 7.40625 -2.140625 C 7.40625 -2.28125 7.28125 -2.28125 7.234375 -2.28125 C 7.09375 -2.28125 7.0625 -2.21875 7.03125 -2.125 C 6.546875 -0.515625 5.53125 -0.171875 5.046875 -0.171875 C 4.46875 -0.171875 4.234375 -0.640625 4.234375 -1.15625 C 4.234375 -1.484375 4.3125 -1.8125 4.484375 -2.46875 Z M 4.984375 -4.515625 \"/>\n",
       "</symbol>\n",
       "<symbol overflow=\"visible\" id=\"glyph1-0\">\n",
       "<path style=\"stroke:none;\" d=\"\"/>\n",
       "</symbol>\n",
       "<symbol overflow=\"visible\" id=\"glyph1-1\">\n",
       "<path style=\"stroke:none;\" d=\"M -3.453125 -2.796875 C -3.453125 -3.21875 -3.484375 -4.328125 -3.796875 -5.078125 C -4.25 -6.125 -5.125 -6.203125 -5.328125 -6.203125 C -5.984375 -6.203125 -6.609375 -5.625 -6.609375 -4.59375 C -6.609375 -2.9375 -5.15625 -0.6875 -2.546875 -0.6875 C -1.015625 -0.6875 0.171875 -1.5625 0.171875 -3.03125 C 0.171875 -5.171875 -1.421875 -6.421875 -1.59375 -6.421875 C -1.6875 -6.421875 -1.796875 -6.328125 -1.796875 -6.25 C -1.796875 -6.171875 -1.765625 -6.140625 -1.640625 -6.046875 C -0.171875 -4.875 -0.171875 -3.234375 -0.171875 -3.0625 C -0.171875 -1.890625 -1.421875 -1.765625 -1.890625 -1.765625 C -2.078125 -1.765625 -2.546875 -1.78125 -3.453125 -2 Z M -3.78125 -2.09375 C -6.046875 -2.671875 -6.28125 -4.21875 -6.28125 -4.59375 C -6.28125 -5.296875 -5.84375 -5.703125 -5.328125 -5.703125 C -3.78125 -5.703125 -3.78125 -3.3125 -3.78125 -2.703125 Z M -3.78125 -2.09375 \"/>\n",
       "</symbol>\n",
       "<symbol overflow=\"visible\" id=\"glyph2-0\">\n",
       "<path style=\"stroke:none;\" d=\"\"/>\n",
       "</symbol>\n",
       "<symbol overflow=\"visible\" id=\"glyph2-1\">\n",
       "<path style=\"stroke:none;\" d=\"M -2.359375 -7.78125 C -2.359375 -7.9375 -2.359375 -8.203125 -2.609375 -8.203125 C -2.875 -8.203125 -2.875 -7.953125 -2.875 -7.78125 L -2.875 -1.546875 C -2.875 -1.375 -2.875 -1.125 -2.625 -1.125 C -2.359375 -1.125 -2.359375 -1.375 -2.359375 -1.546875 Z M -2.359375 -7.78125 \"/>\n",
       "</symbol>\n",
       "<symbol overflow=\"visible\" id=\"glyph3-0\">\n",
       "<path style=\"stroke:none;\" d=\"\"/>\n",
       "</symbol>\n",
       "<symbol overflow=\"visible\" id=\"glyph3-1\">\n",
       "<path style=\"stroke:none;\" d=\"M -2.984375 -4.21875 C -1.796875 -4.75 -0.28125 -5.34375 -0.140625 -5.453125 C 0.109375 -5.65625 0.109375 -5.84375 0.109375 -6.015625 L 0.109375 -6.21875 C 0.109375 -6.421875 0.109375 -6.515625 -0.015625 -6.515625 C -0.078125 -6.515625 -0.109375 -6.484375 -0.125 -6.46875 C -0.234375 -6.34375 -0.484375 -6.234375 -0.578125 -6.203125 L -6.59375 -3.640625 C -6.78125 -3.578125 -7.25 -3.359375 -7.25 -2.265625 C -7.25 -2.125 -7.25 -1.984375 -7.109375 -1.984375 C -6.984375 -1.984375 -6.96875 -2.09375 -6.96875 -2.140625 C -6.9375 -2.359375 -6.90625 -2.5625 -6.296875 -2.828125 L -3.375 -4.0625 L -0.59375 -0.984375 C -0.484375 -0.859375 -0.40625 -0.78125 -0.234375 -0.78125 C 0.015625 -0.78125 0.125 -0.984375 0.125 -1.125 C 0.125 -1.328125 -0.015625 -1.453125 -0.046875 -1.484375 Z M -2.984375 -4.21875 \"/>\n",
       "</symbol>\n",
       "<symbol overflow=\"visible\" id=\"glyph3-2\">\n",
       "<path style=\"stroke:none;\" d=\"M -1.109375 -2.609375 C -0.75 -2.5 -0.1875 -2.15625 -0.1875 -1.625 C -0.1875 -1.59375 -0.1875 -1.28125 -0.328125 -1.0625 C -0.46875 -1.484375 -0.84375 -1.515625 -0.90625 -1.515625 C -1.140625 -1.515625 -1.296875 -1.34375 -1.296875 -1.09375 C -1.296875 -0.8125 -1.046875 -0.5 -0.65625 -0.5 C -0.140625 -0.5 0.109375 -1.09375 0.109375 -1.59375 C 0.109375 -2.078125 -0.203125 -2.515625 -0.640625 -2.765625 C -0.078125 -3.015625 0.109375 -3.59375 0.109375 -4.015625 C 0.109375 -5.21875 -1.203125 -5.859375 -1.5 -5.859375 C -1.625 -5.859375 -1.625 -5.71875 -1.625 -5.6875 C -1.625 -5.546875 -1.578125 -5.53125 -1.453125 -5.484375 C -0.734375 -5.265625 -0.1875 -4.640625 -0.1875 -4.0625 C -0.1875 -3.640625 -0.46875 -3.421875 -0.875 -3.421875 C -1.140625 -3.421875 -2.09375 -3.671875 -3.25 -3.96875 C -4.0625 -4.171875 -4.3125 -4.640625 -4.3125 -4.984375 C -4.3125 -5 -4.3125 -5.328125 -4.171875 -5.546875 C -4.078125 -5.21875 -3.78125 -5.09375 -3.59375 -5.09375 C -3.359375 -5.09375 -3.203125 -5.265625 -3.203125 -5.515625 C -3.203125 -5.75 -3.40625 -6.09375 -3.84375 -6.09375 C -4.4375 -6.09375 -4.609375 -5.421875 -4.609375 -5 C -4.609375 -4.484375 -4.265625 -4.0625 -3.875 -3.84375 C -4.296875 -3.640625 -4.609375 -3.171875 -4.609375 -2.578125 C -4.609375 -1.40625 -3.328125 -0.734375 -3.015625 -0.734375 C -2.875 -0.734375 -2.875 -0.890625 -2.875 -0.921875 C -2.875 -1.0625 -2.921875 -1.0625 -3.046875 -1.125 C -3.875 -1.375 -4.3125 -2.03125 -4.3125 -2.546875 C -4.3125 -2.890625 -4.125 -3.171875 -3.625 -3.171875 C -3.421875 -3.171875 -2.890625 -3.046875 -2.546875 -2.953125 Z M -1.109375 -2.609375 \"/>\n",
       "</symbol>\n",
       "<symbol overflow=\"visible\" id=\"glyph3-3\">\n",
       "<path style=\"stroke:none;\" d=\"M -4 -4.40625 C -4.34375 -4.1875 -4.609375 -3.84375 -4.609375 -3.328125 C -4.609375 -2 -3.140625 -0.640625 -1.625 -0.640625 C -0.609375 -0.640625 0.109375 -1.3125 0.109375 -2.21875 C 0.109375 -2.78125 -0.21875 -3.28125 -0.625 -3.703125 C 0 -3.90625 0.109375 -4.5 0.109375 -4.78125 C 0.109375 -5.15625 -0.125 -5.421875 -0.453125 -5.609375 C -0.859375 -5.828125 -1.453125 -5.96875 -1.5 -5.96875 C -1.625 -5.96875 -1.625 -5.828125 -1.625 -5.796875 C -1.625 -5.65625 -1.59375 -5.640625 -1.3125 -5.578125 C -0.8125 -5.453125 -0.1875 -5.25 -0.1875 -4.8125 C -0.1875 -4.53125 -0.421875 -4.46875 -0.703125 -4.46875 C -0.875 -4.46875 -1.25 -4.546875 -1.53125 -4.625 C -1.8125 -4.6875 -2.234375 -4.796875 -2.46875 -4.84375 L -3.265625 -5.0625 C -3.53125 -5.125 -4.03125 -5.25 -4.078125 -5.25 C -4.3125 -5.25 -4.40625 -5.0625 -4.40625 -4.890625 C -4.40625 -4.71875 -4.28125 -4.46875 -4 -4.40625 Z M -1.3125 -3.75 C -1.015625 -3.671875 -0.8125 -3.4375 -0.609375 -3.203125 C -0.515625 -3.109375 -0.1875 -2.703125 -0.1875 -2.25 C -0.1875 -1.859375 -0.453125 -1.484375 -1.203125 -1.484375 C -1.75 -1.484375 -2.90625 -1.78125 -3.328125 -2.03125 C -4.15625 -2.515625 -4.3125 -3.046875 -4.3125 -3.328125 C -4.3125 -4.0625 -3.515625 -4.265625 -3.40625 -4.265625 C -3.359375 -4.265625 -3.296875 -4.25 -3.265625 -4.234375 Z M -1.3125 -3.75 \"/>\n",
       "</symbol>\n",
       "<symbol overflow=\"visible\" id=\"glyph4-0\">\n",
       "<path style=\"stroke:none;\" d=\"\"/>\n",
       "</symbol>\n",
       "<symbol overflow=\"visible\" id=\"glyph4-1\">\n",
       "<path style=\"stroke:none;\" d=\"M -7.84375 -3.703125 C -6.4375 -1.71875 -4.21875 -1.203125 -2.625 -1.203125 C -1.15625 -1.203125 1.140625 -1.640625 2.609375 -3.703125 C 2.609375 -3.796875 2.609375 -3.921875 2.484375 -3.921875 C 2.421875 -3.921875 2.390625 -3.890625 2.328125 -3.8125 C 1.0625 -2.421875 -0.703125 -1.90625 -2.609375 -1.90625 C -5.4375 -1.90625 -6.8125 -2.984375 -7.59375 -3.84375 C -7.625 -3.890625 -7.65625 -3.921875 -7.71875 -3.921875 C -7.84375 -3.921875 -7.84375 -3.796875 -7.84375 -3.703125 Z M -7.84375 -3.703125 \"/>\n",
       "</symbol>\n",
       "<symbol overflow=\"visible\" id=\"glyph4-2\">\n",
       "<path style=\"stroke:none;\" d=\"M -7.84375 -0.9375 C -7.84375 -0.875 -7.84375 -0.734375 -7.71875 -0.734375 C -7.65625 -0.734375 -7.625 -0.78125 -7.5625 -0.84375 C -6.734375 -1.734375 -5.328125 -2.734375 -2.625 -2.734375 C -0.4375 -2.734375 1.21875 -2.0625 2.234375 -0.9375 C 2.421875 -0.75 2.421875 -0.734375 2.484375 -0.734375 C 2.53125 -0.734375 2.609375 -0.78125 2.609375 -0.875 C 2.609375 -1 1.90625 -2 0.609375 -2.6875 C -0.265625 -3.140625 -1.390625 -3.453125 -2.609375 -3.453125 C -4.09375 -3.453125 -6.375 -3.015625 -7.84375 -0.9375 Z M -7.84375 -0.9375 \"/>\n",
       "</symbol>\n",
       "<symbol overflow=\"visible\" id=\"glyph5-0\">\n",
       "<path style=\"stroke:none;\" d=\"\"/>\n",
       "</symbol>\n",
       "<symbol overflow=\"visible\" id=\"glyph5-1\">\n",
       "<path style=\"stroke:none;\" d=\"M -1.4375 -4.40625 L -1.4375 -4.078125 C -1.296875 -4.0625 -0.84375 -3.984375 -0.765625 -3.875 C -0.71875 -3.8125 -0.71875 -3.1875 -0.71875 -3.0625 L -0.71875 -1.609375 C -1.078125 -2.09375 -1.5 -2.65625 -1.796875 -3.09375 C -2.265625 -3.765625 -2.703125 -4.40625 -3.484375 -4.40625 C -4.4375 -4.40625 -4.96875 -3.5 -4.96875 -2.421875 C -4.96875 -1.421875 -4.390625 -0.671875 -3.65625 -0.671875 C -3.265625 -0.671875 -3.203125 -1.015625 -3.203125 -1.109375 C -3.203125 -1.3125 -3.34375 -1.546875 -3.640625 -1.546875 C -3.90625 -1.546875 -4.0625 -1.359375 -4.078125 -1.125 C -4.421875 -1.34375 -4.640625 -1.765625 -4.640625 -2.265625 C -4.640625 -3 -4.21875 -3.59375 -3.484375 -3.59375 C -2.859375 -3.59375 -2.375 -3.171875 -1.890625 -2.59375 L -0.34375 -0.765625 C -0.28125 -0.6875 -0.28125 -0.6875 -0.21875 -0.671875 L 0 -0.671875 L 0 -4.15625 Z M -1.4375 -4.40625 \"/>\n",
       "</symbol>\n",
       "</g>\n",
       "<clipPath id=\"clip1\">\n",
       "  <path d=\"M 64 133 L 295.347656 133 L 295.347656 134 L 64 134 Z M 64 133 \"/>\n",
       "</clipPath>\n",
       "<clipPath id=\"clip2\">\n",
       "  <path d=\"M 64.660156 0.296875 L 295.050781 0.296875 L 295.050781 145.636719 L 64.660156 145.636719 Z M 64.660156 0.296875 \"/>\n",
       "</clipPath>\n",
       "<clipPath id=\"clip3\">\n",
       "  <path d=\"M 195 0.296875 L 197 0.296875 L 197 145.636719 L 195 145.636719 Z M 195 0.296875 \"/>\n",
       "</clipPath>\n",
       "</defs>\n",
       "<g id=\"surface1\">\n",
       "<g clip-path=\"url(#clip1)\" clip-rule=\"nonzero\">\n",
       "<path style=\"fill:none;stroke-width:0.3985;stroke-linecap:butt;stroke-linejoin:miter;stroke:rgb(0%,0%,0%);stroke-opacity:1;stroke-miterlimit:10;\" d=\"M -12.799229 -0.00122917 L 140.794521 -0.00122917 \" transform=\"matrix(1.5,0,0,-1.5,83.859,133.5255)\"/>\n",
       "</g>\n",
       "<path style=\"fill:none;stroke-width:0.3985;stroke-linecap:butt;stroke-linejoin:miter;stroke:rgb(0%,0%,0%);stroke-opacity:1;stroke-miterlimit:10;\" d=\"M 64.002854 -8.074146 L 64.002854 88.819083 \" transform=\"matrix(1.5,0,0,-1.5,83.859,133.5255)\"/>\n",
       "<g clip-path=\"url(#clip2)\" clip-rule=\"nonzero\">\n",
       "<path style=\"fill:none;stroke-width:1.19553;stroke-linecap:butt;stroke-linejoin:miter;stroke:rgb(0%,50%,50%);stroke-opacity:1;stroke-miterlimit:10;\" d=\"M 0.00025 -0.00122917 L 34.9065 -0.00122917 L 36.200771 0.001375 L 40.078375 0.001375 L 41.372646 0.00397917 L 42.664313 0.0091875 L 43.958583 0.0196042 L 45.25025 0.0404375 L 46.544521 0.0768958 L 47.836188 0.144604 L 49.127854 0.261792 L 50.422125 0.459708 L 51.713792 0.787833 L 53.008063 1.306062 L 54.299729 2.108146 L 55.594 3.29825 L 56.885667 5.014396 L 58.179938 7.402417 L 59.471604 10.61075 L 60.765875 14.772208 L 62.057542 19.962312 L 63.349208 26.199292 L 64.643479 33.402417 L 65.935146 41.337312 L 67.229417 49.678458 L 68.521083 57.970125 L 69.815354 65.688875 L 71.107021 72.282625 L 72.401292 77.238354 L 73.692958 80.139396 L 74.987229 80.743562 L 76.278896 78.998771 L 77.573167 75.04825 L 78.864833 69.23575 L 80.1565 62.027417 L 81.450771 53.9545 L 82.742437 45.582104 L 84.036708 37.384187 L 85.328375 29.772208 L 86.622646 23.032625 L 87.914312 17.295646 L 89.208583 12.615958 L 90.50025 8.931062 L 91.794521 6.142 L 93.086187 4.102937 L 94.380458 2.660229 L 95.672125 1.675854 L 96.963792 1.024812 L 98.258062 0.608146 L 99.549729 0.350333 L 100.844 0.196687 L 102.135667 0.105542 L 103.429937 0.0560625 L 104.721604 0.0300208 L 106.015875 0.0143958 L 107.307542 0.00658333 L 108.601812 0.00397917 L 109.893479 0.001375 L 113.771083 0.001375 L 115.065354 -0.00122917 L 127.995042 -0.00122917 \" transform=\"matrix(1.5,0,0,-1.5,83.859,133.5255)\"/>\n",
       "</g>\n",
       "<g clip-path=\"url(#clip3)\" clip-rule=\"nonzero\">\n",
       "<path style=\"fill:none;stroke-width:0.3985;stroke-linecap:butt;stroke-linejoin:miter;stroke:rgb(100%,0%,0%);stroke-opacity:1;stroke-miterlimit:10;\" d=\"M 74.669521 -8.074146 L 74.669521 88.819083 \" transform=\"matrix(1.5,0,0,-1.5,83.859,133.5255)\"/>\n",
       "</g>\n",
       "<g style=\"fill:rgb(0%,0%,0%);fill-opacity:1;\">\n",
       "  <use xlink:href=\"#glyph0-1\" x=\"175.5825\" y=\"179.7675\"/>\n",
       "</g>\n",
       "<g style=\"fill:rgb(0%,0%,0%);fill-opacity:1;\">\n",
       "  <use xlink:href=\"#glyph1-1\" x=\"19.7295\" y=\"103.9215\"/>\n",
       "</g>\n",
       "<g style=\"fill:rgb(0%,0%,0%);fill-opacity:1;\">\n",
       "  <use xlink:href=\"#glyph2-1\" x=\"14.3055\" y=\"96.9645\"/>\n",
       "</g>\n",
       "<g style=\"fill:rgb(0%,0%,0%);fill-opacity:1;\">\n",
       "  <use xlink:href=\"#glyph3-1\" x=\"14.3055\" y=\"87.624\"/>\n",
       "</g>\n",
       "<g style=\"fill:rgb(0%,0%,0%);fill-opacity:1;\">\n",
       "  <use xlink:href=\"#glyph4-1\" x=\"14.3055\" y=\"80.5365\"/>\n",
       "</g>\n",
       "<g style=\"fill:rgb(0%,0%,0%);fill-opacity:1;\">\n",
       "  <use xlink:href=\"#glyph3-2\" x=\"14.3055\" y=\"75.8655\"/>\n",
       "</g>\n",
       "<g style=\"fill:rgb(0%,0%,0%);fill-opacity:1;\">\n",
       "  <use xlink:href=\"#glyph2-1\" x=\"14.3055\" y=\"69.0885\"/>\n",
       "</g>\n",
       "<g style=\"fill:rgb(0%,0%,0%);fill-opacity:1;\">\n",
       "  <use xlink:href=\"#glyph3-3\" x=\"14.3055\" y=\"59.7495\"/>\n",
       "</g>\n",
       "<g style=\"fill:rgb(0%,0%,0%);fill-opacity:1;\">\n",
       "  <use xlink:href=\"#glyph4-2\" x=\"14.3055\" y=\"53.2665\"/>\n",
       "</g>\n",
       "<g style=\"fill:rgb(0%,0%,0%);fill-opacity:1;\">\n",
       "  <use xlink:href=\"#glyph5-1\" x=\"9.7965\" y=\"48.597\"/>\n",
       "</g>\n",
       "</g>\n",
       "</svg>"
      ],
      "text/plain": [
       "<IPython.core.display.SVG object>"
      ]
     },
     "execution_count": 8,
     "metadata": {},
     "output_type": "execute_result"
    }
   ],
   "source": [
    "%%itikz\n",
    "%plot of gaussian distribution\n",
    "\\documentclass[tikz]{standalone}\n",
    "\\usepackage{tikz}\n",
    "\\usepackage{pgfplots}\n",
    "\n",
    "%gauss function\n",
    "\\pgfmathdeclarefunction{gaussx}{2}{%\n",
    "  \\pgfmathparse{exp(-#2*((x-#1)^2)}%\n",
    "}\n",
    "                    \n",
    "%gauss function\n",
    "\\pgfmathdeclarefunction{gauss}{3}{%\n",
    "  \\pgfmathparse{exp(-#3*((#1-#2)^2)}%\n",
    "}\n",
    "      \n",
    "\\begin{document}    \n",
    "\n",
    "                 \n",
    "\\begin{tikzpicture}[scale=1.5]\n",
    "\n",
    "  \\begin{axis}[\n",
    "      no markers, domain=-6:6,\n",
    "      samples=100,\n",
    "      axis lines*=middle,\n",
    "      xlabel=$x$,ylabel=$e^{-\\lambda (x-a)^2}$,\n",
    "      height=5cm, width=7cm,\n",
    "      xtick=\\empty, ytick=\\empty,\n",
    "      restrict y to domain=--6:6]\n",
    "\n",
    "      \\addplot [very thick, teal] {gaussx(1, 1)};\n",
    "    \n",
    "      \\draw[thin, red] (axis cs:1,\\pgfkeysvalueof{/pgfplots/ymin}) -- (axis cs:1,\\pgfkeysvalueof{/pgfplots/ymax}); %draws a vertical line, but at x=4\n",
    "      %\\draw[thin, red] (axis cs:1, gauss{1.5, 1, 1}\\pgfmathresult) \n",
    "      %                    -- (axis cs:1, gauss{.5, 1, 1}\\pgfmathresult); \n",
    "                    \n",
    "    \\end{axis}\n",
    "\\end{tikzpicture}\n",
    "\n",
    "\\end{document}"
   ]
  },
  {
   "cell_type": "code",
   "execution_count": null,
   "id": "cheap-virginia",
   "metadata": {},
   "outputs": [],
   "source": []
  }
 ],
 "metadata": {
  "hide_input": false,
  "kernelspec": {
   "display_name": "Python 3",
   "language": "python",
   "name": "python3"
  },
  "language_info": {
   "codemirror_mode": {
    "name": "ipython",
    "version": 3
   },
   "file_extension": ".py",
   "mimetype": "text/x-python",
   "name": "python",
   "nbconvert_exporter": "python",
   "pygments_lexer": "ipython3",
   "version": "3.9.2"
  },
  "toc": {
   "base_numbering": 1,
   "nav_menu": {
    "height": "110px",
    "width": "264px"
   },
   "number_sections": false,
   "sideBar": true,
   "skip_h1_title": false,
   "title_cell": "Table of Contents",
   "title_sidebar": "Contents",
   "toc_cell": false,
   "toc_position": {
    "height": "calc(100% - 180px)",
    "left": "10px",
    "top": "150px",
    "width": "165px"
   },
   "toc_section_display": true,
   "toc_window_display": true
  }
 },
 "nbformat": 4,
 "nbformat_minor": 5
}
